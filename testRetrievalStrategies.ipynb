{
 "cells": [
  {
   "cell_type": "markdown",
   "metadata": {},
   "source": [
    "## Test Retrieval Strategies\n",
    "\n",
    "This is a notebook that explores, in detail, different chunking and retrieval strategies. \n",
    "\n",
    "## Formatting code\n",
    "\n",
    "The next cell is a function that will wrap the output of the code cells in a way that makes it easier to read.  It is a workaround for the fact that Jupyter notebooks in Cursor do not wrap the same way that they do in Colab."
   ]
  },
  {
   "cell_type": "code",
   "execution_count": 1,
   "metadata": {},
   "outputs": [
    {
     "data": {
      "text/html": [
       "\n",
       "    <style>\n",
       "    pre {\n",
       "        white-space: pre-wrap;\n",
       "        word-wrap: break-word;\n",
       "        max-width: 100%;\n",
       "        overflow-x: hidden;\n",
       "    }\n",
       "    .output_area {\n",
       "        white-space: pre-wrap;\n",
       "        word-wrap: break-word;\n",
       "        max-width: 100%;\n",
       "        overflow-x: hidden;\n",
       "    }\n",
       "    .output_text {\n",
       "        white-space: pre-wrap;\n",
       "        word-wrap: break-word;\n",
       "    }\n",
       "    div.output {\n",
       "        white-space: pre-wrap;\n",
       "        word-wrap: break-word;\n",
       "        max-width: 100%;\n",
       "    }\n",
       "    span {\n",
       "        white-space: pre-wrap;\n",
       "        word-wrap: break-word;\n",
       "    }\n",
       "    </style>\n",
       "    "
      ],
      "text/plain": [
       "<IPython.core.display.HTML object>"
      ]
     },
     "metadata": {},
     "output_type": "display_data"
    }
   ],
   "source": [
    "from dean_utils.format import set_output_wrapping\n",
    "set_output_wrapping()"
   ]
  },
  {
   "cell_type": "markdown",
   "metadata": {},
   "source": [
    "## API Key Setup\n",
    "---"
   ]
  },
  {
   "cell_type": "code",
   "execution_count": 2,
   "metadata": {},
   "outputs": [],
   "source": [
    "from dean_utils.defaults import set_api_key\n",
    "# Example usage:\n",
    "# set_api_key(\"OPENAI_API_KEY\")\n",
    "# default_llm = ChatOpenAI(model=\"gpt-4o\", api_key=set_api_key(\"OPENAI_API_KEY\"))"
   ]
  },
  {
   "cell_type": "markdown",
   "metadata": {},
   "source": [
    "## Let's explore different pdf loaders and settings\n",
    "\n",
    "##### (Here I am just using the TITRE-protocol.pdf file for testing.  Later I will need a file input routine so that I can distribute this notebook to others without TITRE.)\n",
    "---\n",
    "\n",
    "### PyPDFLoader and PyMuPDFLoader both have same syntax.\n"
   ]
  },
  {
   "cell_type": "markdown",
   "metadata": {},
   "source": [
    "---\n",
    "#### Using default mode = \"page\"\n",
    "---"
   ]
  },
  {
   "cell_type": "code",
   "execution_count": 3,
   "metadata": {},
   "outputs": [
    {
     "name": "stdout",
     "output_type": "stream",
     "text": [
      "Page mode loaded the document in individual pages, 51 total.\n",
      "Then the text splitter worked on each page, resulting in 73 chunks.\n"
     ]
    }
   ],
   "source": [
    "from langchain_community.document_loaders import PyPDFLoader\n",
    "from langchain.text_splitter import RecursiveCharacterTextSplitter\n",
    "\n",
    "# Load the protocol and cut it up into chunks\n",
    "loader = PyPDFLoader(\"TITRE-protocol.pdf\", mode=\"page\")\n",
    "pages = loader.load()\n",
    "text_splitter = RecursiveCharacterTextSplitter(chunk_size=3000, chunk_overlap=50)\n",
    "splits = text_splitter.split_documents(pages)\n",
    "print(f\"Page mode loaded the document in individual pages, {len(pages)} total.\")\n",
    "print(f\"Then the text splitter worked on each page, resulting in {len(splits)} chunks.\")"
   ]
  },
  {
   "cell_type": "markdown",
   "metadata": {},
   "source": [
    "---\n",
    "### mode = \"single\" should combine all the text into one\n",
    "\n",
    "---"
   ]
  },
  {
   "cell_type": "code",
   "execution_count": 4,
   "metadata": {},
   "outputs": [
    {
     "name": "stdout",
     "output_type": "stream",
     "text": [
      "Page mode loaded the document as 1 page of text.\n",
      "Then the text splitter worked on that text, resulting in 43 chunks.\n"
     ]
    }
   ],
   "source": [
    "from langchain_community.document_loaders import PyMuPDFLoader\n",
    "\n",
    "# Load the protocol and cut it up into chunks\n",
    "loader = PyMuPDFLoader(\"TITRE-protocol.pdf\", mode=\"single\")\n",
    "pages = loader.load()\n",
    "text_splitter = RecursiveCharacterTextSplitter(chunk_size=3000, chunk_overlap=50)\n",
    "splits = text_splitter.split_documents(pages)\n",
    "print(f\"Page mode loaded the document as {len(pages)} page of text.\")\n",
    "print(f\"Then the text splitter worked on that text, resulting in {len(splits)} chunks.\")"
   ]
  },
  {
   "cell_type": "markdown",
   "metadata": {},
   "source": [
    "PyMuPDFLoader automatically provides more metadata fields than PyPDFLoader so for the rest of this notebook we will just use PyMuPDFLoader.  Let's look at the default metadata using pprint to properly display the fields."
   ]
  },
  {
   "cell_type": "code",
   "execution_count": 5,
   "metadata": {},
   "outputs": [
    {
     "name": "stdout",
     "output_type": "stream",
     "text": [
      "{'producer': 'Microsoft® Word 2016',\n",
      " 'creator': 'Microsoft® Word 2016',\n",
      " 'creationdate': '2024-01-05T10:56:40-05:00',\n",
      " 'source': 'TITRE-protocol.pdf',\n",
      " 'file_path': 'TITRE-protocol.pdf',\n",
      " 'total_pages': 51,\n",
      " 'format': 'PDF 1.5',\n",
      " 'title': '',\n",
      " 'author': 'Thiagarajan, Ravi',\n",
      " 'subject': '',\n",
      " 'keywords': '',\n",
      " 'moddate': '2024-01-05T10:56:40-05:00',\n",
      " 'trapped': '',\n",
      " 'modDate': \"D:20240105105640-05'00'\",\n",
      " 'creationDate': \"D:20240105105640-05'00'\"}\n"
     ]
    }
   ],
   "source": [
    "import pprint\n",
    "pprint.pp(pages[0].metadata)"
   ]
  },
  {
   "cell_type": "markdown",
   "metadata": {},
   "source": [
    "### Compare Modes of Loading for PyMuPDFLoader\n",
    "\n",
    "Note that these modes also apply to PyPDFLoader.  Our choice between the loaders is arbitrary.  In the previous cells we saw that loading with page or single mode results in different numbers of chunks.  The next cell illustrates this.  Remember that a chunk size of 3000 is clearly MORE than the size of some *small pages* in the original PDF document.  \n"
   ]
  },
  {
   "cell_type": "code",
   "execution_count": 6,
   "metadata": {},
   "outputs": [
    {
     "name": "stdout",
     "output_type": "stream",
     "text": [
      "Page mode number of pages: 51, number of chunks: 73\n",
      "Size of the first six pages: 1352, 4893, 3836, 1274, 1048, 1612\n",
      "Length of first eight chunks: 1352, 2921, 1970, 2910, 924, 1274, 1048, 1612\n",
      "Single mode number of pages: 1, number of chunks: 43\n",
      "Length of first five chunks: 2927, 2960, 2930, 2993, 2981\n"
     ]
    }
   ],
   "source": [
    "loader = PyMuPDFLoader(\"TITRE-protocol.pdf\",\n",
    "                       mode=\"page\",)\n",
    "pages = loader.load()\n",
    "text_splitter = RecursiveCharacterTextSplitter(chunk_size=3000, chunk_overlap=50)\n",
    "splits = text_splitter.split_documents(pages)\n",
    "print(f\"Page mode number of pages: {len(pages)}, number of chunks: {len(splits)}\")\n",
    "print(f\"Size of the first six pages: {', '.join(str(len(pages[i].page_content)) for i in range(6))}\")\n",
    "print(f\"Length of first eight chunks: {', '.join(str(len(splits[i].page_content)) for i in range(8))}\")\n",
    "\n",
    "loader = PyMuPDFLoader(\"TITRE-protocol.pdf\",\n",
    "                       mode=\"single\",)\n",
    "pages = loader.load()\n",
    "text_splitter = RecursiveCharacterTextSplitter(chunk_size=3000, chunk_overlap=50)\n",
    "splits = text_splitter.split_documents(pages)\n",
    "print(f\"Single mode number of pages: {len(pages)}, number of chunks: {len(splits)}\")\n",
    "print(f\"Length of first five chunks: {', '.join(str(len(splits[i].page_content)) for i in range(5))}\")\n"
   ]
  },
  {
   "cell_type": "markdown",
   "metadata": {},
   "source": [
    "###  Important Conclusion from above\n",
    "\n",
    "The default mode for PyMuPDFLoader is \"page\".  What happens is that if the chunk size is larger than the page size, the loader will load the entire page as a single chunk.  The first page of this document had 1352 characters, and the first chunk also had 1352.  The next page had 4893 characters and was split into two chunks;  the first of these was close to the 3000 chunk size setting and the second was the remaining 1970 characters. \n",
    "\n",
    "This is not usually the desired behavior, because our chunk overlap strategy will not work *between chunks from different pages*.  So we need to use the \"single\" mode, which loads the entire document as a single chunk.  Then we will get chunks that do have overlap between them (*if that was the behavior we wanted*.)\n"
   ]
  },
  {
   "cell_type": "markdown",
   "metadata": {},
   "source": [
    "## Now let's set up experiments\n",
    "\n",
    "We are going to chunk our test document into different chunk sizes with different overlaps, store each of those strategies in a separate Qdrant collection, and then create rag chains that will use each of those collections.  Then we will ask questions of the chain and observe which strategies completely fail.\n",
    "\n",
    "---\n"
   ]
  },
  {
   "cell_type": "code",
   "execution_count": 7,
   "metadata": {},
   "outputs": [],
   "source": [
    "from dean_utils.getVectorstore import getVectorstore\n",
    "\n",
    "def create_vector_store(file_path, embedding_model, chunk_size, chunk_overlap):\n",
    "    loader = PyMuPDFLoader(file_path, mode=\"single\",)\n",
    "    pages = loader.load()\n",
    "    text_splitter = RecursiveCharacterTextSplitter(chunk_size=chunk_size, chunk_overlap=chunk_overlap)\n",
    "    chunks = text_splitter.split_documents(pages)\n",
    "    collection_name = f\"ChunkSize_{chunk_size}_Overlap_{chunk_overlap}\"\n",
    "    return getVectorstore(document=chunks,file_path=file_path, embedding_model=embedding_model, collection_name=collection_name)"
   ]
  },
  {
   "cell_type": "markdown",
   "metadata": {},
   "source": [
    "In the upcoming code cell, you will see that I imported two embedding models so I could compare their performance.  The BGE model was vastly inferior to the OpenAI text-embedding-3-small model, and so the code below uses the commercial model."
   ]
  },
  {
   "cell_type": "code",
   "execution_count": 8,
   "metadata": {},
   "outputs": [],
   "source": [
    "from dean_utils.defaults import bge_embedding_model, te3_embedding_model\n",
    "embedding_model = te3_embedding_model\n",
    "file_path=\"TITRE-protocol.pdf\"\n",
    "vectorStore1 = create_vector_store(file_path, embedding_model, 1000, 100)\n",
    "vectorStore2 = create_vector_store(file_path, embedding_model, 1000, 200)\n",
    "vectorStore3 = create_vector_store(file_path, embedding_model, 1000, 300)\n",
    "vectorStore4 = create_vector_store(file_path, embedding_model, 1000, 400)\n",
    "vectorStore5 = create_vector_store(file_path, embedding_model, 1000, 500)\n",
    "vectorStore6 = create_vector_store(file_path, embedding_model, 2000, 100)\n",
    "vectorStore7 = create_vector_store(file_path, embedding_model, 2000, 200)\n",
    "vectorStore8 = create_vector_store(file_path, embedding_model, 2000, 300)\n",
    "vectorStore9 = create_vector_store(file_path, embedding_model, 2000, 400)\n",
    "vectorStore10 = create_vector_store(file_path, embedding_model, 2000, 500)"
   ]
  },
  {
   "cell_type": "markdown",
   "metadata": {},
   "source": [
    "There is also a parameter k that determines how many chunks are returned, and we can also test changes in k to see the effects.\n",
    "\n",
    "When k = 3, the later queries about inclusion criteria fail in the majority of instances.  When k = 5, the queries succeed in almost all cases.  When k = 8, there are still a couple of failures.  When I increase it to 20, 100% of the queries succeed using GPT-4o as the model."
   ]
  },
  {
   "cell_type": "code",
   "execution_count": 14,
   "metadata": {},
   "outputs": [],
   "source": [
    "k = 10\n",
    "retrievers = [\n",
    "    vectorStore1.as_retriever(search_kwargs={\"k\": k}),\n",
    "    vectorStore2.as_retriever(search_kwargs={\"k\": k}),\n",
    "    vectorStore3.as_retriever(search_kwargs={\"k\": k}),\n",
    "    vectorStore4.as_retriever(search_kwargs={\"k\": k}),\n",
    "    vectorStore5.as_retriever(search_kwargs={\"k\": k}),\n",
    "    vectorStore6.as_retriever(search_kwargs={\"k\": k}),\n",
    "    vectorStore7.as_retriever(search_kwargs={\"k\": k}),\n",
    "    vectorStore8.as_retriever(search_kwargs={\"k\": k}),\n",
    "    vectorStore9.as_retriever(search_kwargs={\"k\": k}),\n",
    "    vectorStore10.as_retriever(search_kwargs={\"k\": k})\n",
    "]"
   ]
  },
  {
   "cell_type": "code",
   "execution_count": 15,
   "metadata": {},
   "outputs": [],
   "source": [
    "from operator import itemgetter\n",
    "from dean_utils.prompts import rag_prompt_template\n",
    "from dean_utils.defaults import gpt4o_llm\n",
    "from langchain.prompts import ChatPromptTemplate\n",
    "from langchain.schema.output_parser import StrOutputParser\n",
    "\n",
    "rag_prompt = ChatPromptTemplate.from_template(rag_prompt_template)\n",
    "llm = gpt4o_llm\n",
    "\n",
    "def create_rag_chains_with_metadata(retrievers, rag_prompt, llm, chunk_sizes, chunk_overlaps):\n",
    "    \"\"\"\n",
    "    Create RAG chains with metadata about chunk sizes and overlaps.\n",
    "    \"\"\"\n",
    "    rag_chains = {}\n",
    "    for i, (retriever, chunk_size, chunk_overlap) in enumerate(zip(retrievers, chunk_sizes, chunk_overlaps), 1):\n",
    "        chain_name = f\"rag_chain_{i}_chunk{chunk_size}_overlap{chunk_overlap}\"\n",
    "        rag_chains[chain_name] = {\n",
    "            \"chain\": (\n",
    "                {\"context\": itemgetter(\"question\") | retriever, \"question\": itemgetter(\"question\")}\n",
    "                | rag_prompt | llm | StrOutputParser()\n",
    "            ),\n",
    "            \"metadata\": {\n",
    "                \"chunk_size\": chunk_size,\n",
    "                \"chunk_overlap\": chunk_overlap\n",
    "            }\n",
    "        }\n",
    "    return rag_chains\n",
    "\n",
    "# Create chains with metadata\n",
    "chunk_sizes = [1000] * 5 + [2000] * 5  # First 5 are 1000, last 5 are 2000\n",
    "chunk_overlaps = [100, 200, 300, 400, 500] * 2  # Repeat for both chunk sizes\n",
    "rag_chains = create_rag_chains_with_metadata(retrievers, rag_prompt, llm, chunk_sizes, chunk_overlaps)\n",
    "\n",
    "# Example usage:\n",
    "# response = rag_chains[\"rag_chain_1_chunk1000_overlap100\"][\"chain\"].invoke({\"question\": \"What is the title?\"})"
   ]
  },
  {
   "cell_type": "code",
   "execution_count": 16,
   "metadata": {},
   "outputs": [
    {
     "name": "stdout",
     "output_type": "stream",
     "text": [
      "The title of the protocol is \"TITRE: Trial of Indication-based Transfusion of Red Blood Cells in ECMO.\"\n",
      "The title of the protocol is \"TITRE: Trial of Indication-based Transfusion of Red Blood Cells in ECMO.\"\n",
      "The title of the protocol is \"TITRE: Trial of Indication-based Transfusion of Red Blood Cells in ECMO.\"\n",
      "The title of the protocol is \"TITRE: Trial of Indication-based Transfusion of Red Blood Cells in ECMO.\"\n",
      "The title of the protocol is \"TITRE: Trial of Indication-based Transfusion of Red Blood Cells in ECMO.\"\n",
      "The title of the protocol is \"TITRE: Trial of Indication-based Transfusion of Red Blood Cells in ECMO.\"\n",
      "The title of the protocol is \"TITRE: Trial of Indication-based Transfusion of Red Blood Cells in ECMO.\"\n",
      "The title of the protocol is \"TITRE: Trial of Indication-based Transfusion of Red Blood Cells in ECMO.\"\n",
      "The title of the protocol is \"TITRE: Trial of Indication-based Transfusion of Red Blood Cells in ECMO.\"\n",
      "The title of the protocol is \"TITRE: Trial of Indication-based Transfusion of Red Blood Cells in ECMO.\"\n"
     ]
    }
   ],
   "source": [
    "\n",
    "print(rag_chains[\"rag_chain_1_chunk1000_overlap100\"][\"chain\"].invoke({\"question\": \"What is the title of the protocol?\"}))\n",
    "print(rag_chains[\"rag_chain_2_chunk1000_overlap200\"][\"chain\"].invoke({\"question\": \"What is the title of the protocol?\"}))\n",
    "print(rag_chains[\"rag_chain_3_chunk1000_overlap300\"][\"chain\"].invoke({\"question\": \"What is the title of the protocol?\"}))\n",
    "print(rag_chains[\"rag_chain_4_chunk1000_overlap400\"][\"chain\"].invoke({\"question\": \"What is the title of the protocol?\"}))\n",
    "print(rag_chains[\"rag_chain_5_chunk1000_overlap500\"][\"chain\"].invoke({\"question\": \"What is the title of the protocol?\"}))\n",
    "print(rag_chains[\"rag_chain_6_chunk2000_overlap100\"][\"chain\"].invoke({\"question\": \"What is the title of the protocol?\"}))\n",
    "print(rag_chains[\"rag_chain_7_chunk2000_overlap200\"][\"chain\"].invoke({\"question\": \"What is the title of the protocol?\"}))\n",
    "print(rag_chains[\"rag_chain_8_chunk2000_overlap300\"][\"chain\"].invoke({\"question\": \"What is the title of the protocol?\"}))\n",
    "print(rag_chains[\"rag_chain_9_chunk2000_overlap400\"][\"chain\"].invoke({\"question\": \"What is the title of the protocol?\"}))\n",
    "print(rag_chains[\"rag_chain_10_chunk2000_overlap500\"][\"chain\"].invoke({\"question\": \"What is the title of the protocol?\"}))\n"
   ]
  },
  {
   "cell_type": "code",
   "execution_count": 17,
   "metadata": {},
   "outputs": [
    {
     "name": "stdout",
     "output_type": "stream",
     "text": [
      "==================================================\n",
      "The inclusion criteria for the protocol are as follows:\n",
      "\n",
      "1. Age less than 6 years at ECMO cannulation.\n",
      "2. Veno-arterial (VA) mode of ECMO.\n",
      "3. First ECMO run during the index hospitalization.\n",
      "==================================================\n",
      "The inclusion criteria for the protocol are as follows:\n",
      "\n",
      "1. Children supported with ECMO for any indication.\n",
      "2. Age less than 6 years at ECMO cannulation.\n",
      "3. Veno-arterial (VA) mode of ECMO.\n",
      "4. First ECMO run during the index hospital admission.\n",
      "==================================================\n",
      "The inclusion criteria for the protocol are as follows:\n",
      "\n",
      "1. Children supported with ECMO for any indication.\n",
      "2. Age less than 6 years at ECMO cannulation.\n",
      "3. Veno-arterial (VA) mode of ECMO.\n",
      "4. First ECMO run during the index hospital admission.\n",
      "==================================================\n",
      "The inclusion criteria of the protocol are that all must be met, but the specific criteria are not provided in the context.\n",
      "==================================================\n",
      "The inclusion criteria of the protocol are as follows:\n",
      "\n",
      "1. Age less than 6 years at ECMO cannulation.\n",
      "2. Veno-arterial (VA) mode of ECMO.\n",
      "3. First ECMO run during the index hospitalization.\n",
      "==================================================\n",
      "The inclusion criteria for the protocol are as follows:\n",
      "\n",
      "1. Age less than 6 years at ECMO cannulation.\n",
      "2. Veno-arterial (VA) mode of ECMO.\n",
      "3. First ECMO run during the index hospitalization.\n",
      "==================================================\n",
      "The inclusion criteria for the protocol are as follows:\n",
      "\n",
      "1. Age less than 6 years at ECMO cannulation.\n",
      "2. Veno-arterial (VA) mode of ECMO.\n",
      "3. First ECMO run during the index hospitalization.\n",
      "==================================================\n",
      "The inclusion criteria for the protocol are as follows:\n",
      "\n",
      "1. Age less than 6 years at ECMO cannulation.\n",
      "2. Veno-arterial (VA) mode of ECMO.\n",
      "3. First ECMO run during the index hospitalization.\n",
      "==================================================\n",
      "The inclusion criteria for the protocol are as follows:\n",
      "\n",
      "1. Age less than 6 years at ECMO cannulation.\n",
      "2. Veno-arterial (VA) mode of ECMO.\n",
      "3. First ECMO run during the index hospitalization.\n",
      "==================================================\n",
      "The inclusion criteria for the protocol are as follows:\n",
      "\n",
      "1. Age less than 6 years at ECMO cannulation.\n",
      "2. Veno-arterial (VA) mode of ECMO.\n",
      "3. First ECMO run during the index hospitalization.\n"
     ]
    }
   ],
   "source": [
    "print(\"=\" * 50)\n",
    "print(rag_chains[\"rag_chain_1_chunk1000_overlap100\"][\"chain\"].invoke({\"question\": \"What are the inclusion criteria of the protocol?\"}))\n",
    "print(\"=\" * 50)\n",
    "print(rag_chains[\"rag_chain_2_chunk1000_overlap200\"][\"chain\"].invoke({\"question\": \"What are the inclusion criteria of the protocol?\"}))\n",
    "print(\"=\" * 50)\n",
    "print(rag_chains[\"rag_chain_3_chunk1000_overlap300\"][\"chain\"].invoke({\"question\": \"What are the inclusion criteria of the protocol?\"}))\n",
    "print(\"=\" * 50)\n",
    "print(rag_chains[\"rag_chain_4_chunk1000_overlap400\"][\"chain\"].invoke({\"question\": \"What are the inclusion criteria of the protocol?\"}))\n",
    "print(\"=\" * 50)\n",
    "print(rag_chains[\"rag_chain_5_chunk1000_overlap500\"][\"chain\"].invoke({\"question\": \"What are the inclusion criteria of the protocol?\"}))\n",
    "print(\"=\" * 50)\n",
    "print(rag_chains[\"rag_chain_6_chunk2000_overlap100\"][\"chain\"].invoke({\"question\": \"What are the inclusion criteria of the protocol?\"}))\n",
    "print(\"=\" * 50)\n",
    "print(rag_chains[\"rag_chain_7_chunk2000_overlap200\"][\"chain\"].invoke({\"question\": \"What are the inclusion criteria of the protocol?\"}))\n",
    "print(\"=\" * 50)\n",
    "print(rag_chains[\"rag_chain_8_chunk2000_overlap300\"][\"chain\"].invoke({\"question\": \"What are the inclusion criteria of the protocol?\"}))\n",
    "print(\"=\" * 50)\n",
    "print(rag_chains[\"rag_chain_9_chunk2000_overlap400\"][\"chain\"].invoke({\"question\": \"What are the inclusion criteria of the protocol?\"}))\n",
    "print(\"=\" * 50)\n",
    "print(rag_chains[\"rag_chain_10_chunk2000_overlap500\"][\"chain\"].invoke({\"question\": \"What are the inclusion criteria of the protocol?\"}))\n"
   ]
  },
  {
   "cell_type": "code",
   "execution_count": 18,
   "metadata": {},
   "outputs": [
    {
     "name": "stdout",
     "output_type": "stream",
     "text": [
      "==================================================\n",
      "The exclusion criteria of the protocol are as follows:\n",
      "\n",
      "1. Gestationally-corrected age < 37 weeks.\n",
      "2. Veno-venous (VV) mode of ECMO.\n",
      "3. Patients initially started on VV-ECMO and then transitioned to VA ECMO.\n",
      "4. ECMO used for procedural support (ECMO deployed and decannulated in procedural area with no ICU ECMO care) or ECMO duration expected to be < 24 hours.\n",
      "5. Limitation of care in place or being discussed.\n",
      "6. Congenital bleeding disorders.\n",
      "7. Hemoglobinopathies.\n",
      "8. Primary residence outside the country of enrollment.\n",
      "9. Concurrent participation in a separate interventional trial that has the potential to impact neurodevelopmental status of the patient.\n",
      "10. Patients cannulated for ECMO at a non-trial center and transferred to a trial site.\n",
      "11. Randomization not possible within 36 hours following ECMO cannulation (e.g., due to staffing or delays related to communication with participant family).\n",
      "==================================================\n",
      "The exclusion criteria of the protocol are as follows:\n",
      "\n",
      "1. Gestationally-corrected age < 37 weeks.\n",
      "2. Veno-venous (VV) mode of ECMO.\n",
      "3. Patients initially started on VV-ECMO and then transitioned to VA ECMO.\n",
      "4. ECMO used for procedural support (ECMO deployed and decannulated in procedural area with no ICU ECMO care) or ECMO duration expected to be < 24 hours.\n",
      "5. Limitation of care in place or being discussed.\n",
      "6. Congenital bleeding disorders.\n",
      "7. Hemoglobinopathies.\n",
      "8. Primary residence outside the country of enrollment.\n",
      "9. Concurrent participation in a separate interventional trial that has the potential to impact neurodevelopmental status of the patient (note that observational non-interventional studies do not qualify the patient for exclusion).\n",
      "10. Patients cannulated for ECMO at a non-trial center and transferred to a trial site.\n",
      "11. Randomization not possible within 36 hours following ECMO cannulation.\n",
      "==================================================\n",
      "The exclusion criteria of the protocol are as follows:\n",
      "\n",
      "1. Gestationally-corrected age less than 37 weeks.\n",
      "2. Veno-venous (VV) mode of ECMO.\n",
      "3. Patients initially started on VV-ECMO and then transitioned to VA ECMO.\n",
      "4. ECMO used for procedural support only, or ECMO duration expected to be less than 24 hours.\n",
      "5. Limitation of care in place or being discussed.\n",
      "6. Congenital bleeding disorders.\n",
      "7. Hemoglobinopathies.\n",
      "8. Primary residence outside the country of enrollment.\n",
      "9. Concurrent participation in a separate interventional trial that has the potential to impact the neurodevelopmental status of the patient.\n",
      "10. Patients cannulated for ECMO at a non-trial center and transferred to a trial site.\n",
      "11. Randomization not possible within 36 hours following ECMO cannulation.\n",
      "==================================================\n",
      "The exclusion criteria of the protocol are as follows:\n",
      "\n",
      "1. Gestationally-corrected age less than 37 weeks.\n",
      "2. Veno-venous (VV) mode of ECMO.\n",
      "3. Patients initially started on VV-ECMO and then transitioned to VA ECMO.\n",
      "4. ECMO used for procedural support only, or ECMO duration expected to be less than 24 hours.\n",
      "5. Limitation of care in place or being discussed.\n",
      "6. Congenital bleeding disorders.\n",
      "7. Hemoglobinopathies.\n",
      "8. Primary residence outside the country of enrollment.\n",
      "9. Concurrent participation in a separate interventional trial that has the potential to impact the neurodevelopmental status of the patient (observational non-interventional studies do not qualify the patient for exclusion).\n",
      "10. Patients cannulated for ECMO at a non-trial center and transferred to a trial site.\n",
      "11. Randomization not possible within 36 hours following ECMO cannulation.\n",
      "==================================================\n",
      "The exclusion criteria of the protocol are as follows:\n",
      "\n",
      "1. Gestationally-corrected age < 37 weeks.\n",
      "2. Veno-venous (VV) mode of ECMO.\n",
      "3. Patients initially started on VV-ECMO and then transitioned to VA ECMO.\n",
      "4. ECMO used for procedural support (ECMO deployed and decannulated in procedural area with no ICU ECMO care) or ECMO duration expected to be < 24 hours.\n",
      "5. Limitation of care in place or being discussed.\n",
      "6. Congenital bleeding disorders.\n",
      "7. Hemoglobinopathies.\n",
      "8. Primary residence outside the country of enrollment.\n",
      "9. Concurrent participation in a separate interventional trial that has the potential to impact neurodevelopmental status of the patient.\n",
      "10. Patients cannulated for ECMO at a non-trial center and transferred to a trial site.\n",
      "11. Randomization not possible within 36 hours following ECMO cannulation (e.g., due to staffing or delays related to communication with participant family).\n",
      "==================================================\n",
      "The exclusion criteria of the protocol are as follows:\n",
      "\n",
      "1. Gestationally-corrected age < 37 weeks.\n",
      "2. Veno-venous (VV) mode of ECMO.\n",
      "3. Patients initially started on VV-ECMO and then transitioned to VA ECMO.\n",
      "4. ECMO used for procedural support (ECMO deployed and decannulated in procedural area with no ICU ECMO care) or ECMO duration expected to be < 24 hours.\n",
      "5. Limitation of care in place or being discussed.\n",
      "6. Congenital bleeding disorders.\n",
      "7. Hemoglobinopathies.\n",
      "8. Primary residence outside the country of enrollment.\n",
      "9. Concurrent participation in a separate interventional trial that has the potential to impact neurodevelopmental status of the patient (note that observational non-interventional studies do not qualify the patient for exclusion).\n",
      "10. Patients cannulated for ECMO at a non-trial center and transferred to a trial site.\n",
      "11. Randomization not possible within 36 hours following ECMO cannulation (e.g., due to staffing or delays related to communication with participant family).\n",
      "==================================================\n",
      "The exclusion criteria of the protocol are as follows:\n",
      "\n",
      "1. Gestationally-corrected age < 37 weeks.\n",
      "2. Veno-venous (VV) mode of ECMO.\n",
      "3. Patients initially started on VV-ECMO and then transitioned to VA ECMO.\n",
      "4. ECMO used for procedural support only, or ECMO duration expected to be < 24 hours.\n",
      "5. Limitation of care in place or being discussed.\n",
      "6. Congenital bleeding disorders.\n",
      "7. Hemoglobinopathies.\n",
      "8. Primary residence outside the country of enrollment.\n",
      "9. Concurrent participation in a separate interventional trial that has the potential to impact neurodevelopmental status of the patient.\n",
      "10. Patients cannulated for ECMO at a non-trial center and transferred to a trial site.\n",
      "11. Randomization not possible within 36 hours following ECMO cannulation.\n",
      "==================================================\n",
      "The exclusion criteria of the protocol are as follows:\n",
      "\n",
      "1. Gestationally-corrected age < 37 weeks.\n",
      "2. Veno-venous (VV) mode of ECMO.\n",
      "3. Patients initially started on VV-ECMO and then transitioned to VA ECMO.\n",
      "4. ECMO used for procedural support (ECMO deployed and decannulated in procedural area with no ICU ECMO care) or ECMO duration expected to be < 24 hours.\n",
      "5. Limitation of care in-place or being discussed.\n",
      "6. Congenital bleeding disorders.\n",
      "7. Hemoglobinopathies.\n",
      "8. Primary residence outside the country of enrollment.\n",
      "9. Concurrent participation in a separate interventional trial that has the potential to impact neurodevelopmental status of the patient (note that observational non-interventional studies do not qualify the patient for exclusion).\n",
      "10. Patients cannulated for ECMO at a non-trial center and transferred to a trial site.\n",
      "11. Randomization not possible within 36 hours following ECMO cannulation (e.g., due to staffing or delays related to communication with participant family).\n",
      "==================================================\n",
      "The exclusion criteria of the protocol are as follows:\n",
      "\n",
      "1. Gestationally-corrected age < 37 weeks.\n",
      "2. Veno-venous (VV) mode of ECMO.\n",
      "3. Patients initially started on VV-ECMO and then transitioned to VA ECMO.\n",
      "4. ECMO used for procedural support (ECMO deployed and decannulated in procedural area with no ICU ECMO care) or ECMO duration expected to be < 24 hours.\n",
      "5. Limitation of care in place or being discussed.\n",
      "6. Congenital bleeding disorders.\n",
      "7. Hemoglobinopathies.\n",
      "8. Primary residence outside the country of enrollment.\n",
      "9. Concurrent participation in a separate interventional trial that has the potential to impact neurodevelopmental status of the patient (note that observational non-interventional studies do not qualify the patient for exclusion).\n",
      "10. Patients cannulated for ECMO at a non-trial center and transferred to a trial site.\n",
      "11. Randomization not possible within 36 hours following ECMO cannulation (e.g., due to staffing or delays related to communication with participant family).\n",
      "==================================================\n",
      "The exclusion criteria of the protocol are as follows:\n",
      "\n",
      "1. Gestationally-corrected age < 37 weeks.\n",
      "2. Veno-venous (VV) mode of ECMO.\n",
      "3. Patients initially started on VV-ECMO and then transitioned to VA ECMO.\n",
      "4. ECMO used for procedural support (ECMO deployed and decannulated in procedural area with no ICU ECMO care) or ECMO duration expected to be < 24 hours.\n",
      "5. Limitation of care in-place or being discussed.\n",
      "6. Congenital bleeding disorders.\n",
      "7. Hemoglobinopathies.\n",
      "8. Primary residence outside the country of enrollment.\n",
      "9. Concurrent participation in a separate interventional trial that has the potential to impact neurodevelopmental status of the patient (note that observational non-interventional studies do not qualify the patient for exclusion).\n",
      "10. Patients cannulated for ECMO at a non-trial center and transferred to a trial site.\n",
      "11. Randomization not possible within 36 hours following ECMO cannulation (e.g., due to staffing or delays related to communication with participant family).\n"
     ]
    }
   ],
   "source": [
    "print(\"=\" * 50)\n",
    "print(rag_chains[\"rag_chain_1_chunk1000_overlap100\"][\"chain\"].invoke({\"question\": \"What are the exclusion criteria of the protocol?\"}))\n",
    "print(\"=\" * 50)\n",
    "print(rag_chains[\"rag_chain_2_chunk1000_overlap200\"][\"chain\"].invoke({\"question\": \"What are the exclusion criteria of the protocol?\"}))\n",
    "print(\"=\" * 50)\n",
    "print(rag_chains[\"rag_chain_3_chunk1000_overlap300\"][\"chain\"].invoke({\"question\": \"What are the exclusion criteria of the protocol?\"}))\n",
    "print(\"=\" * 50)\n",
    "print(rag_chains[\"rag_chain_4_chunk1000_overlap400\"][\"chain\"].invoke({\"question\": \"What are the exclusion criteria of the protocol?\"}))\n",
    "print(\"=\" * 50)\n",
    "print(rag_chains[\"rag_chain_5_chunk1000_overlap500\"][\"chain\"].invoke({\"question\": \"What are the exclusion criteria of the protocol?\"}))\n",
    "print(\"=\" * 50)\n",
    "print(rag_chains[\"rag_chain_6_chunk2000_overlap100\"][\"chain\"].invoke({\"question\": \"What are the exclusion criteria of the protocol?\"}))\n",
    "print(\"=\" * 50)\n",
    "print(rag_chains[\"rag_chain_7_chunk2000_overlap200\"][\"chain\"].invoke({\"question\": \"What are the exclusion criteria of the protocol?\"}))\n",
    "print(\"=\" * 50)\n",
    "print(rag_chains[\"rag_chain_8_chunk2000_overlap300\"][\"chain\"].invoke({\"question\": \"What are the exclusion criteria of the protocol?\"}))\n",
    "print(\"=\" * 50)\n",
    "print(rag_chains[\"rag_chain_9_chunk2000_overlap400\"][\"chain\"].invoke({\"question\": \"What are the exclusion criteria of the protocol?\"}))\n",
    "print(\"=\" * 50)\n",
    "print(rag_chains[\"rag_chain_10_chunk2000_overlap500\"][\"chain\"].invoke({\"question\": \"What are the exclusion criteria of the protocol?\"}))\n"
   ]
  },
  {
   "cell_type": "code",
   "execution_count": 19,
   "metadata": {},
   "outputs": [
    {
     "name": "stdout",
     "output_type": "stream",
     "text": [
      "==================================================\n",
      "The 4th exclusion criterion is: \"ECMO used for procedural support (ECMO deployed and decannulated in procedural area with no ICU ECMO care) or ECMO duration expected to be < 24 h.\"\n",
      "\n",
      "The 7th exclusion criterion is: \"Hemoglobinopathies.\"\n",
      "==================================================\n",
      "The 4th exclusion criterion is: \"ECMO used for procedural support (ECMO deployed and decannulated in procedural area with no ICU ECMO care) or ECMO duration expected to be < 24 h.\"\n",
      "\n",
      "The 7th exclusion criterion is: \"Hemoglobinopathies.\"\n",
      "==================================================\n",
      "The 4th exclusion criterion is: \"ECMO used for procedural support (ECMO deployed and decannulated in procedural area with no ICU ECMO care) or ECMO duration expected to be < 24 h.\"\n",
      "\n",
      "The 7th exclusion criterion is: \"Hemoglobinopathies.\"\n",
      "==================================================\n",
      "The 4th exclusion criterion is: \"ECMO used for procedural support (ECMO deployed and decannulated in procedural area with no ICU ECMO care) or ECMO duration expected to be < 24 h.\"\n",
      "\n",
      "The 7th exclusion criterion is: \"Hemoglobinopathies.\"\n",
      "==================================================\n",
      "The 4th exclusion criterion is: \"ECMO used for procedural support (ECMO deployed and decannulated in procedural area with no ICU ECMO care) or ECMO duration expected to be < 24 h.\"\n",
      "\n",
      "The 7th exclusion criterion is: \"Hemoglobinopathies.\"\n",
      "==================================================\n",
      "The 4th exclusion criterion is: \"ECMO used for procedural support (ECMO deployed and decannulated in procedural area with no ICU ECMO care) or ECMO duration expected to be < 24 h.\"\n",
      "\n",
      "The 7th exclusion criterion is: \"Hemoglobinopathies.\"\n",
      "==================================================\n",
      "The 4th exclusion criterion is \"ECMO used for procedural support only, or ECMO duration expected to be < 24 h.\" The 7th exclusion criterion is \"Hemoglobinopathies.\"\n",
      "==================================================\n",
      "The 4th exclusion criterion is: \"ECMO used for procedural support (ECMO deployed and decannulated in procedural area with no ICU ECMO care) or ECMO duration expected to be < 24 h.\"\n",
      "\n",
      "The 7th exclusion criterion is: \"Hemoglobinopathies.\"\n",
      "==================================================\n",
      "The 4th exclusion criterion is: \"ECMO used for procedural support (ECMO deployed and decannulated in procedural area with no ICU ECMO care) or ECMO duration expected to be < 24 h.\"\n",
      "\n",
      "The 7th exclusion criterion is: \"Hemoglobinopathies.\"\n",
      "==================================================\n",
      "The 4th exclusion criterion is: \"ECMO used for procedural support (ECMO deployed and decannulated in procedural area with no ICU ECMO care) or ECMO duration expected to be < 24 h.\"\n",
      "\n",
      "The 7th exclusion criterion is: \"Hemoglobinopathies.\"\n"
     ]
    }
   ],
   "source": [
    "print(\"=\" * 50)\n",
    "print(rag_chains[\"rag_chain_1_chunk1000_overlap100\"][\"chain\"].invoke({\"question\": \"What are the 4th and 7th exclusion criteria of the protocol?\"}))\n",
    "print(\"=\" * 50)\n",
    "print(rag_chains[\"rag_chain_2_chunk1000_overlap200\"][\"chain\"].invoke({\"question\": \"What are the 4th and 7th exclusion criteria of the protocol?\"}))\n",
    "print(\"=\" * 50)\n",
    "print(rag_chains[\"rag_chain_3_chunk1000_overlap300\"][\"chain\"].invoke({\"question\": \"What are the 4th and 7th exclusion criteria of the protocol?\"}))\n",
    "print(\"=\" * 50)\n",
    "print(rag_chains[\"rag_chain_4_chunk1000_overlap400\"][\"chain\"].invoke({\"question\": \"What are the 4th and 7th exclusion criteria of the protocol?\"}))\n",
    "print(\"=\" * 50)\n",
    "print(rag_chains[\"rag_chain_5_chunk1000_overlap500\"][\"chain\"].invoke({\"question\": \"What are the 4th and 7th exclusion criteria of the protocol?\"}))\n",
    "print(\"=\" * 50)\n",
    "print(rag_chains[\"rag_chain_6_chunk2000_overlap100\"][\"chain\"].invoke({\"question\": \"What are the 4th and 7th exclusion criteria of the protocol?\"}))\n",
    "print(\"=\" * 50)\n",
    "print(rag_chains[\"rag_chain_7_chunk2000_overlap200\"][\"chain\"].invoke({\"question\": \"What are the 4th and 7th exclusion criteria of the protocol?\"}))\n",
    "print(\"=\" * 50)\n",
    "print(rag_chains[\"rag_chain_8_chunk2000_overlap300\"][\"chain\"].invoke({\"question\": \"What are the 4th and 7th exclusion criteria of the protocol?\"}))\n",
    "print(\"=\" * 50)\n",
    "print(rag_chains[\"rag_chain_9_chunk2000_overlap400\"][\"chain\"].invoke({\"question\": \"What are the 4th and 7th exclusion criteria of the protocol?\"}))\n",
    "print(\"=\" * 50)\n",
    "print(rag_chains[\"rag_chain_10_chunk2000_overlap500\"][\"chain\"].invoke({\"question\": \"What are the 4th and 7th exclusion criteria of the protocol?\"}))\n"
   ]
  },
  {
   "cell_type": "markdown",
   "metadata": {},
   "source": [
    "### Conclusions to this point\n",
    "---\n",
    "\n",
    "Chunk size and overlap do certainly affect the performance of retrieval, but this is much more pronounced when using the BGE model.  This is probably because it is a 768 embedding model.  \n",
    "\n",
    "Increasing k did not completely solve the issue when using BGE.  Lesson to me is to use the richest embedding model we can afford to use.\n",
    "\n",
    "The next experiment is to swap out the model and hit a local model on my laptop.  More to come!\n",
    "\n",
    "---"
   ]
  }
 ],
 "metadata": {
  "kernelspec": {
   "display_name": ".venv",
   "language": "python",
   "name": "python3"
  },
  "language_info": {
   "codemirror_mode": {
    "name": "ipython",
    "version": 3
   },
   "file_extension": ".py",
   "mimetype": "text/x-python",
   "name": "python",
   "nbconvert_exporter": "python",
   "pygments_lexer": "ipython3",
   "version": "3.13.0"
  }
 },
 "nbformat": 4,
 "nbformat_minor": 2
}
