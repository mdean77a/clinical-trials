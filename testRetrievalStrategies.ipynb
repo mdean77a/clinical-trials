{
 "cells": [
  {
   "cell_type": "markdown",
   "metadata": {},
   "source": [
    "## Test Retrieval Strategies\n",
    "\n",
    "This is a notebook that explores, in detail, different chunking and retrieval strategies. \n",
    "\n",
    "## Formatting code\n",
    "\n",
    "The next cell is a function that will wrap the output of the code cells in a way that makes it easier to read.  It is a workaround for the fact that Jupyter notebooks in Cursor do not wrap the same way that they do in Colab."
   ]
  },
  {
   "cell_type": "code",
   "execution_count": 1,
   "metadata": {},
   "outputs": [
    {
     "data": {
      "text/html": [
       "\n",
       "    <style>\n",
       "    pre {\n",
       "        white-space: pre-wrap;\n",
       "        word-wrap: break-word;\n",
       "        max-width: 100%;\n",
       "        overflow-x: hidden;\n",
       "    }\n",
       "    .output_area {\n",
       "        white-space: pre-wrap;\n",
       "        word-wrap: break-word;\n",
       "        max-width: 100%;\n",
       "        overflow-x: hidden;\n",
       "    }\n",
       "    .output_text {\n",
       "        white-space: pre-wrap;\n",
       "        word-wrap: break-word;\n",
       "    }\n",
       "    div.output {\n",
       "        white-space: pre-wrap;\n",
       "        word-wrap: break-word;\n",
       "        max-width: 100%;\n",
       "    }\n",
       "    span {\n",
       "        white-space: pre-wrap;\n",
       "        word-wrap: break-word;\n",
       "    }\n",
       "    </style>\n",
       "    "
      ],
      "text/plain": [
       "<IPython.core.display.HTML object>"
      ]
     },
     "metadata": {},
     "output_type": "display_data"
    }
   ],
   "source": [
    "from dean_utils.format import set_output_wrapping\n",
    "set_output_wrapping()"
   ]
  },
  {
   "cell_type": "markdown",
   "metadata": {},
   "source": [
    "## API Key Setup\n",
    "---"
   ]
  },
  {
   "cell_type": "code",
   "execution_count": 2,
   "metadata": {},
   "outputs": [],
   "source": [
    "from dean_utils.defaults import set_api_key\n",
    "# Example usage:\n",
    "# set_api_key(\"OPENAI_API_KEY\")\n",
    "# default_llm = ChatOpenAI(model=\"gpt-4o\", api_key=set_api_key(\"OPENAI_API_KEY\"))"
   ]
  },
  {
   "cell_type": "markdown",
   "metadata": {},
   "source": [
    "## Let's explore different pdf loaders and settings\n",
    "\n",
    "##### (Here I am just using the TITRE-protocol.pdf file for testing.  Later I will need a file input routine so that I can distribute this notebook to others without TITRE.)\n",
    "---\n",
    "\n",
    "### PyPDFLoader and PyMuPDFLoader both have same syntax.\n"
   ]
  },
  {
   "cell_type": "markdown",
   "metadata": {},
   "source": [
    "---\n",
    "#### Using default mode = \"page\"\n",
    "---"
   ]
  },
  {
   "cell_type": "code",
   "execution_count": 3,
   "metadata": {},
   "outputs": [
    {
     "name": "stdout",
     "output_type": "stream",
     "text": [
      "Page mode loaded the document in individual pages, 51 total.\n",
      "Then the text splitter worked on each page, resulting in 73 chunks.\n"
     ]
    }
   ],
   "source": [
    "from langchain_community.document_loaders import PyPDFLoader\n",
    "from langchain.text_splitter import RecursiveCharacterTextSplitter\n",
    "\n",
    "# Load the protocol and cut it up into chunks\n",
    "loader = PyPDFLoader(\"TITRE-protocol.pdf\", mode=\"page\")\n",
    "pages = loader.load()\n",
    "text_splitter = RecursiveCharacterTextSplitter(chunk_size=3000, chunk_overlap=50)\n",
    "splits = text_splitter.split_documents(pages)\n",
    "print(f\"Page mode loaded the document in individual pages, {len(pages)} total.\")\n",
    "print(f\"Then the text splitter worked on each page, resulting in {len(splits)} chunks.\")"
   ]
  },
  {
   "cell_type": "markdown",
   "metadata": {},
   "source": [
    "---\n",
    "### mode = \"single\" should combine all the text into one\n",
    "\n",
    "---"
   ]
  },
  {
   "cell_type": "code",
   "execution_count": 4,
   "metadata": {},
   "outputs": [
    {
     "name": "stdout",
     "output_type": "stream",
     "text": [
      "Page mode loaded the document as 1 page of text.\n",
      "Then the text splitter worked on that text, resulting in 43 chunks.\n"
     ]
    }
   ],
   "source": [
    "from langchain_community.document_loaders import PyMuPDFLoader\n",
    "\n",
    "# Load the protocol and cut it up into chunks\n",
    "loader = PyMuPDFLoader(\"TITRE-protocol.pdf\", mode=\"single\")\n",
    "pages = loader.load()\n",
    "text_splitter = RecursiveCharacterTextSplitter(chunk_size=3000, chunk_overlap=50)\n",
    "splits = text_splitter.split_documents(pages)\n",
    "print(f\"Page mode loaded the document as {len(pages)} page of text.\")\n",
    "print(f\"Then the text splitter worked on that text, resulting in {len(splits)} chunks.\")"
   ]
  },
  {
   "cell_type": "markdown",
   "metadata": {},
   "source": [
    "PyMuPDFLoader automatically provides more metadata fields than PyPDFLoader so for the rest of this notebook we will just use PyMuPDFLoader.  Let's look at the default metadata using pprint to properly display the fields."
   ]
  },
  {
   "cell_type": "code",
   "execution_count": 5,
   "metadata": {},
   "outputs": [
    {
     "name": "stdout",
     "output_type": "stream",
     "text": [
      "{'producer': 'Microsoft® Word 2016',\n",
      " 'creator': 'Microsoft® Word 2016',\n",
      " 'creationdate': '2024-01-05T10:56:40-05:00',\n",
      " 'source': 'TITRE-protocol.pdf',\n",
      " 'file_path': 'TITRE-protocol.pdf',\n",
      " 'total_pages': 51,\n",
      " 'format': 'PDF 1.5',\n",
      " 'title': '',\n",
      " 'author': 'Thiagarajan, Ravi',\n",
      " 'subject': '',\n",
      " 'keywords': '',\n",
      " 'moddate': '2024-01-05T10:56:40-05:00',\n",
      " 'trapped': '',\n",
      " 'modDate': \"D:20240105105640-05'00'\",\n",
      " 'creationDate': \"D:20240105105640-05'00'\"}\n"
     ]
    }
   ],
   "source": [
    "import pprint\n",
    "pprint.pp(pages[0].metadata)"
   ]
  },
  {
   "cell_type": "markdown",
   "metadata": {},
   "source": [
    "### Compare Modes of Loading for PyMuPDFLoader\n",
    "\n",
    "Note that these modes also apply to PyPDFLoader.  Our choice between the loaders is arbitrary.  In the previous cells we saw that loading with page or single mode results in different numbers of chunks.  The next cell illustrates this.  Remember that a chunk size of 3000 is clearly MORE than the size of some *small pages* in the original PDF document.  \n"
   ]
  },
  {
   "cell_type": "code",
   "execution_count": 6,
   "metadata": {},
   "outputs": [
    {
     "name": "stdout",
     "output_type": "stream",
     "text": [
      "Page mode number of pages: 51, number of chunks: 73\n",
      "Size of the first six pages: 1352, 4893, 3836, 1274, 1048, 1612\n",
      "Length of first eight chunks: 1352, 2921, 1970, 2910, 924, 1274, 1048, 1612\n",
      "Single mode number of pages: 1, number of chunks: 43\n",
      "Length of first five chunks: 2927, 2960, 2930, 2993, 2981\n"
     ]
    }
   ],
   "source": [
    "loader = PyMuPDFLoader(\"TITRE-protocol.pdf\",\n",
    "                       mode=\"page\",)\n",
    "pages = loader.load()\n",
    "text_splitter = RecursiveCharacterTextSplitter(chunk_size=3000, chunk_overlap=50)\n",
    "splits = text_splitter.split_documents(pages)\n",
    "print(f\"Page mode number of pages: {len(pages)}, number of chunks: {len(splits)}\")\n",
    "print(f\"Size of the first six pages: {', '.join(str(len(pages[i].page_content)) for i in range(6))}\")\n",
    "print(f\"Length of first eight chunks: {', '.join(str(len(splits[i].page_content)) for i in range(8))}\")\n",
    "\n",
    "loader = PyMuPDFLoader(\"TITRE-protocol.pdf\",\n",
    "                       mode=\"single\",)\n",
    "pages = loader.load()\n",
    "text_splitter = RecursiveCharacterTextSplitter(chunk_size=3000, chunk_overlap=50)\n",
    "splits = text_splitter.split_documents(pages)\n",
    "print(f\"Single mode number of pages: {len(pages)}, number of chunks: {len(splits)}\")\n",
    "print(f\"Length of first five chunks: {', '.join(str(len(splits[i].page_content)) for i in range(5))}\")\n"
   ]
  },
  {
   "cell_type": "markdown",
   "metadata": {},
   "source": [
    "###  Important Conclusion from above\n",
    "\n",
    "The default mode for PyMuPDFLoader is \"page\".  What happens is that if the chunk size is larger than the page size, the loader will load the entire page as a single chunk.  The first page of this document had 1352 characters, and the first chunk also had 1352.  The next page had 4893 characters and was split into two chunks;  the first of these was close to the 3000 chunk size setting and the second was the remaining 1970 characters. \n",
    "\n",
    "This is not usually the desired behavior, because our chunk overlap strategy will not work *between chunks from different pages*.  So we need to use the \"single\" mode, which loads the entire document as a single chunk.  Then we will get chunks that do have overlap between them (*if that was the behavior we wanted*.)\n"
   ]
  },
  {
   "cell_type": "markdown",
   "metadata": {},
   "source": [
    "## Now let's set up experiments\n",
    "\n",
    "We are going to chunk our test document into different chunk sizes with different overlaps, store each of those strategies in a separate Qdrant collection, and then create rag chains that will use each of those collections.  Then we will ask questions of the chain and observe which strategies completely fail.\n",
    "\n",
    "---\n"
   ]
  },
  {
   "cell_type": "code",
   "execution_count": 7,
   "metadata": {},
   "outputs": [],
   "source": [
    "from dean_utils.getVectorstore import getVectorstore\n",
    "\n",
    "def create_vector_store(file_path, embedding_model, chunk_size, chunk_overlap):\n",
    "    loader = PyMuPDFLoader(file_path, mode=\"single\",)\n",
    "    pages = loader.load()\n",
    "    text_splitter = RecursiveCharacterTextSplitter(chunk_size=chunk_size, chunk_overlap=chunk_overlap)\n",
    "    chunks = text_splitter.split_documents(pages)\n",
    "    collection_name = f\"ChunkSize_{chunk_size}_Overlap_{chunk_overlap}\"\n",
    "    return getVectorstore(document=chunks,file_path=file_path, embedding_model=embedding_model, collection_name=collection_name)"
   ]
  },
  {
   "cell_type": "markdown",
   "metadata": {},
   "source": [
    "In the upcoming code cell, you will see that I imported two embedding models so I could compare their performance.  The BGE model was vastly inferior to the OpenAI text-embedding-3-small model, and so the code below uses the commercial model."
   ]
  },
  {
   "cell_type": "code",
   "execution_count": 8,
   "metadata": {},
   "outputs": [],
   "source": [
    "from dean_utils.defaults import bge_embedding_model, te3_embedding_model\n",
    "embedding_model = te3_embedding_model\n",
    "file_path=\"TITRE-protocol.pdf\"\n",
    "vectorStore1 = create_vector_store(file_path, embedding_model, 1000, 100)\n",
    "vectorStore2 = create_vector_store(file_path, embedding_model, 1000, 200)\n",
    "vectorStore3 = create_vector_store(file_path, embedding_model, 1000, 300)\n",
    "vectorStore4 = create_vector_store(file_path, embedding_model, 1000, 400)\n",
    "vectorStore5 = create_vector_store(file_path, embedding_model, 1000, 500)\n",
    "vectorStore6 = create_vector_store(file_path, embedding_model, 2000, 100)\n",
    "vectorStore7 = create_vector_store(file_path, embedding_model, 2000, 200)\n",
    "vectorStore8 = create_vector_store(file_path, embedding_model, 2000, 300)\n",
    "vectorStore9 = create_vector_store(file_path, embedding_model, 2000, 400)\n",
    "vectorStore10 = create_vector_store(file_path, embedding_model, 2000, 500)"
   ]
  },
  {
   "cell_type": "markdown",
   "metadata": {},
   "source": [
    "There is also a parameter k that determines how many chunks are returned, and we can also test changes in k to see the effects.\n",
    "\n",
    "When k = 3, the later queries about inclusion criteria fail in the majority of instances.  When k = 5, the queries succeed in almost all cases.  When k = 8, there are still a couple of failures.  When I increase it to 20, 100% of the queries succeed using GPT-4o as the model."
   ]
  },
  {
   "cell_type": "code",
   "execution_count": 9,
   "metadata": {},
   "outputs": [],
   "source": [
    "k = 5\n",
    "retrievers = [\n",
    "    vectorStore1.as_retriever(search_kwargs={\"k\": k}),\n",
    "    vectorStore2.as_retriever(search_kwargs={\"k\": k}),\n",
    "    vectorStore3.as_retriever(search_kwargs={\"k\": k}),\n",
    "    vectorStore4.as_retriever(search_kwargs={\"k\": k}),\n",
    "    vectorStore5.as_retriever(search_kwargs={\"k\": k}),\n",
    "    vectorStore6.as_retriever(search_kwargs={\"k\": k}),\n",
    "    vectorStore7.as_retriever(search_kwargs={\"k\": k}),\n",
    "    vectorStore8.as_retriever(search_kwargs={\"k\": k}),\n",
    "    vectorStore9.as_retriever(search_kwargs={\"k\": k}),\n",
    "    vectorStore10.as_retriever(search_kwargs={\"k\": k})\n",
    "]"
   ]
  },
  {
   "cell_type": "code",
   "execution_count": 10,
   "metadata": {},
   "outputs": [],
   "source": [
    "from operator import itemgetter\n",
    "from dean_utils.prompts import rag_prompt_template\n",
    "from dean_utils.defaults import gpt4o_llm\n",
    "from langchain.prompts import ChatPromptTemplate\n",
    "from langchain.schema.output_parser import StrOutputParser\n",
    "\n",
    "rag_prompt = ChatPromptTemplate.from_template(rag_prompt_template)\n",
    "llm = gpt4o_llm\n",
    "\n",
    "def create_rag_chains_with_metadata(retrievers, rag_prompt, llm, chunk_sizes, chunk_overlaps):\n",
    "    \"\"\"\n",
    "    Create RAG chains with metadata about chunk sizes and overlaps.\n",
    "    \"\"\"\n",
    "    rag_chains = {}\n",
    "    for i, (retriever, chunk_size, chunk_overlap) in enumerate(zip(retrievers, chunk_sizes, chunk_overlaps), 1):\n",
    "        chain_name = f\"rag_chain_{i}_chunk{chunk_size}_overlap{chunk_overlap}\"\n",
    "        rag_chains[chain_name] = {\n",
    "            \"chain\": (\n",
    "                {\"context\": itemgetter(\"question\") | retriever, \"question\": itemgetter(\"question\")}\n",
    "                | rag_prompt | llm | StrOutputParser()\n",
    "            ),\n",
    "            \"metadata\": {\n",
    "                \"chunk_size\": chunk_size,\n",
    "                \"chunk_overlap\": chunk_overlap\n",
    "            }\n",
    "        }\n",
    "    return rag_chains\n",
    "\n",
    "# Create chains with metadata\n",
    "chunk_sizes = [1000] * 5 + [2000] * 5  # First 5 are 1000, last 5 are 2000\n",
    "chunk_overlaps = [100, 200, 300, 400, 500] * 2  # Repeat for both chunk sizes\n",
    "rag_chains = create_rag_chains_with_metadata(retrievers, rag_prompt, llm, chunk_sizes, chunk_overlaps)\n",
    "\n",
    "# Example usage:\n",
    "# response = rag_chains[\"rag_chain_1_chunk1000_overlap100\"][\"chain\"].invoke({\"question\": \"What is the title?\"})"
   ]
  },
  {
   "cell_type": "markdown",
   "metadata": {},
   "source": [
    "Let's import my four test queries and then run them."
   ]
  },
  {
   "cell_type": "code",
   "execution_count": 11,
   "metadata": {},
   "outputs": [],
   "source": [
    "from dean_utils.testQueries import title_query, inclusion_query, exclusion_query, specific_exclusion_query\n"
   ]
  },
  {
   "cell_type": "code",
   "execution_count": 12,
   "metadata": {},
   "outputs": [
    {
     "name": "stdout",
     "output_type": "stream",
     "text": [
      "TITLE QUERY\n",
      "==================================================\n",
      "The title of the protocol is \"TITRE: Trial of Indication-based Transfusion of Red Blood Cells in ECMO.\"\n",
      "==================================================\n",
      "The title of the protocol is \"TITRE: Trial of Indication-based Transfusion of Red Blood Cells in ECMO.\"\n",
      "==================================================\n",
      "The title of the protocol is \"TITRE: Trial of Indication-based Transfusion of Red Blood Cells in ECMO.\"\n",
      "==================================================\n",
      "The title of the protocol is \"TITRE: Trial of Indication-based Transfusion of Red Blood Cells in ECMO.\"\n",
      "==================================================\n",
      "The title of the protocol is \"TITRE: Trial of Indication-based Transfusion of Red Blood Cells in ECMO.\"\n",
      "==================================================\n",
      "The title of the protocol is \"TITRE: Trial of Indication-based Transfusion of Red Blood Cells in ECMO.\"\n",
      "==================================================\n",
      "The title of the protocol is \"TITRE: Trial of Indication-based Transfusion of Red Blood Cells in ECMO.\"\n",
      "==================================================\n",
      "The title of the protocol is \"TITRE: Trial of Indication-based Transfusion of Red Blood Cells in ECMO.\"\n",
      "==================================================\n",
      "The title of the protocol is \"TITRE: Trial of Indication-based Transfusion of Red Blood Cells in ECMO.\"\n",
      "==================================================\n",
      "The title of the protocol is \"TITRE: Trial of Indication-based Transfusion of Red Blood Cells in ECMO.\"\n",
      "==================================================\n"
     ]
    }
   ],
   "source": [
    "title_query(rag_chains)"
   ]
  },
  {
   "cell_type": "code",
   "execution_count": 13,
   "metadata": {},
   "outputs": [
    {
     "name": "stdout",
     "output_type": "stream",
     "text": [
      "INCLUSION CRITERIA QUERY\n",
      "==================================================\n",
      "The inclusion criteria of the protocol are not specified in the provided context.\n",
      "==================================================\n",
      "The context does not provide specific details about the inclusion criteria of the protocol.\n",
      "==================================================\n",
      "The inclusion criteria for the protocol are as follows:\n",
      "\n",
      "1. Children supported with ECMO for any indication.\n",
      "2. Age less than 6 years at ECMO cannulation.\n",
      "3. Veno-arterial (VA) mode of ECMO.\n",
      "4. First ECMO run during the index hospital admission.\n",
      "==================================================\n",
      "The inclusion criteria of the protocol are that all must be met, but the specific criteria are not provided in the context. Therefore, I can't answer based on the context.\n",
      "==================================================\n",
      "The inclusion criteria of the protocol are as follows:\n",
      "\n",
      "1. Age less than 6 years at ECMO cannulation.\n",
      "2. Veno-arterial (VA) mode of ECMO.\n",
      "3. First ECMO run during the index hospitalization.\n",
      "==================================================\n",
      "The inclusion criteria for the protocol are as follows:\n",
      "\n",
      "1. Age less than 6 years at ECMO cannulation.\n",
      "2. Veno-arterial (VA) mode of ECMO.\n",
      "3. First ECMO run during the index hospitalization.\n",
      "==================================================\n",
      "The inclusion criteria for the protocol are as follows:\n",
      "\n",
      "1. Children supported with ECMO for any indication.\n",
      "2. Age less than 6 years at ECMO cannulation.\n",
      "3. Veno-arterial (VA) mode of ECMO.\n",
      "4. First ECMO run during the index hospital admission.\n",
      "==================================================\n",
      "The inclusion criteria of the protocol are as follows:\n",
      "\n",
      "1. Age less than 6 years at ECMO cannulation.\n",
      "2. Veno-arterial (VA) mode of ECMO.\n",
      "3. First ECMO run during the index hospitalization.\n",
      "==================================================\n",
      "The inclusion criteria for the protocol are as follows:\n",
      "\n",
      "1. Age less than 6 years at ECMO cannulation.\n",
      "2. Veno-arterial (VA) mode of ECMO.\n",
      "3. First ECMO run during the index hospitalization.\n",
      "==================================================\n",
      "The inclusion criteria of the protocol are as follows:\n",
      "\n",
      "1. Age less than 6 years at ECMO cannulation.\n",
      "2. Veno-arterial (VA) mode of ECMO.\n",
      "3. First ECMO run during the index hospitalization.\n",
      "==================================================\n"
     ]
    }
   ],
   "source": [
    "inclusion_query(rag_chains)"
   ]
  },
  {
   "cell_type": "code",
   "execution_count": 14,
   "metadata": {},
   "outputs": [
    {
     "name": "stdout",
     "output_type": "stream",
     "text": [
      "EXCLUSION CRITERIA QUERY\n",
      "==================================================\n",
      "The exclusion criteria of the protocol are as follows:\n",
      "\n",
      "1. Gestationally-corrected age < 37 weeks.\n",
      "2. Veno-venous (VV) mode of ECMO.\n",
      "3. Patients initially started on VV-ECMO and then transitioned to VA ECMO.\n",
      "4. ECMO used for procedural support (ECMO deployed and decannulated in procedural area with no ICU ECMO care) or ECMO duration expected to be < 24 hours.\n",
      "5. Limitation of care in place or being discussed.\n",
      "6. Congenital bleeding disorders.\n",
      "7. Hemoglobinopathies.\n",
      "8. Primary residence outside the country of enrollment.\n",
      "9. Concurrent participation in a separate interventional trial that has the potential to impact the neurodevelopmental status of the patient.\n",
      "==================================================\n",
      "The exclusion criteria of the protocol are as follows:\n",
      "\n",
      "1. Gestationally-corrected age < 37 weeks\n",
      "2. Veno-venous (VV) mode of ECMO\n",
      "3. Patients initially started on VV-ECMO and then transitioned to VA ECMO\n",
      "4. ECMO used for procedural support (ECMO deployed and decannulated in procedural area with no ICU ECMO care) or ECMO duration expected to be < 24 hours\n",
      "5. Limitation of care in place or being discussed\n",
      "6. Congenital bleeding disorders\n",
      "7. Hemoglobinopathies\n",
      "8. Primary residence outside the country of enrollment\n",
      "9. Concurrent participation in a separate interventional trial that has the potential to impact neurodevelopmental status of the patient (observational non-interventional studies do not qualify the patient for exclusion)\n",
      "10. Patients cannulated for ECMO at a non-trial center and transferred to a trial site\n",
      "11. Randomization not possible within 36 hours following ECMO cannulation.\n",
      "==================================================\n",
      "The exclusion criteria of the protocol are as follows:\n",
      "\n",
      "1. Gestationally-corrected age < 37 weeks.\n",
      "2. Veno-venous (VV) mode of ECMO.\n",
      "3. Patients initially started on VV-ECMO and then transitioned to VA ECMO.\n",
      "4. ECMO used for procedural support (ECMO deployed and decannulated in procedural area with no ICU ECMO care) or ECMO duration expected to be < 24 hours.\n",
      "5. Limitation of care in place or being discussed.\n",
      "6. Congenital bleeding disorders.\n",
      "7. Hemoglobinopathies.\n",
      "8. Primary residence outside the country of enrollment.\n",
      "9. Concurrent participation in a separate interventional trial that has the potential to impact neurodevelopmental status of the patient (note that observational non-interventional studies do not qualify the patient for exclusion).\n",
      "10. Patients cannulated for ECMO at a non-trial center and transferred to a trial site.\n",
      "==================================================\n",
      "The exclusion criteria of the protocol are as follows:\n",
      "\n",
      "1. Gestationally-corrected age less than 37 weeks.\n",
      "2. Veno-venous (VV) mode of ECMO.\n",
      "3. Patients initially started on VV-ECMO and then transitioned to VA ECMO.\n",
      "4. ECMO used for procedural support only, or ECMO duration expected to be less than 24 hours.\n",
      "5. Limitation of care in place or being discussed.\n",
      "6. Congenital bleeding disorders.\n",
      "7. Hemoglobinopathies.\n",
      "8. Primary residence outside the country of enrollment.\n",
      "9. Concurrent participation in a separate interventional trial that has the potential to impact the neurodevelopmental status of the patient (observational non-interventional studies do not qualify the patient for exclusion).\n",
      "10. Patients cannulated for ECMO at a non-trial center and transferred to a trial site.\n",
      "11. Randomization not possible within 36 hours following ECMO cannulation.\n",
      "==================================================\n",
      "The exclusion criteria of the protocol are as follows:\n",
      "\n",
      "1. Gestationally-corrected age < 37 weeks.\n",
      "2. Veno-venous (VV) mode of ECMO.\n",
      "3. Patients initially started on VV-ECMO and then transitioned to VA ECMO.\n",
      "4. ECMO used for procedural support (ECMO deployed and decannulated in procedural area with no ICU ECMO care) or ECMO duration expected to be < 24 hours.\n",
      "5. Limitation of care in place or being discussed.\n",
      "6. Congenital bleeding disorders.\n",
      "7. Hemoglobinopathies.\n",
      "8. Primary residence outside the country of enrollment.\n",
      "9. Concurrent participation in a separate interventional trial that has the potential to impact the neurodevelopmental status of the patient.\n",
      "10. Patients cannulated for ECMO at a non-trial center and transferred to a trial site.\n",
      "11. Randomization not possible within 36 hours following ECMO cannulation (e.g., due to staffing or delays related to communication with participant family).\n",
      "==================================================\n",
      "The exclusion criteria of the protocol are as follows:\n",
      "\n",
      "1. Gestationally-corrected age < 37 weeks.\n",
      "2. Veno-venous (VV) mode of ECMO.\n",
      "3. Patients initially started on VV-ECMO and then transitioned to VA ECMO.\n",
      "4. ECMO used for procedural support (ECMO deployed and decannulated in procedural area with no ICU ECMO care) or ECMO duration expected to be < 24 hours.\n",
      "5. Limitation of care in place or being discussed.\n",
      "6. Congenital bleeding disorders.\n",
      "7. Hemoglobinopathies.\n",
      "8. Primary residence outside the country of enrollment.\n",
      "9. Concurrent participation in a separate interventional trial that has the potential to impact neurodevelopmental status of the patient (note that observational non-interventional studies do not qualify the patient for exclusion).\n",
      "10. Patients cannulated for ECMO at a non-trial center and transferred to a trial site.\n",
      "11. Randomization not possible within 36 hours following ECMO cannulation (e.g., due to staffing or delays related to communication with participant family).\n",
      "==================================================\n",
      "The exclusion criteria of the protocol are as follows:\n",
      "\n",
      "1. Gestationally-corrected age < 37 weeks.\n",
      "2. Veno-venous (VV) mode of ECMO.\n",
      "3. VV ECMO transitioned to VA ECMO.\n",
      "4. ECMO used for procedural support only, or ECMO duration expected to be < 24 hours.\n",
      "5. Limitation of care in place or being discussed.\n",
      "6. Congenital bleeding disorders.\n",
      "7. Hemoglobinopathies.\n",
      "8. Primary residence outside the United States or Canada.\n",
      "9. Concurrent participation in a separate interventional trial that has the potential to impact the neurodevelopmental status of the patient.\n",
      "10. Patients cannulated for ECMO at a non-trial center and transferred to a trial site.\n",
      "11. Randomization not possible within 36 hours following ECMO cannulation (e.g., due to staffing or delays related to communication with participant family).\n",
      "==================================================\n",
      "The exclusion criteria of the protocol are as follows:\n",
      "\n",
      "1. Gestationally-corrected age < 37 weeks.\n",
      "2. Veno-venous (VV) mode of ECMO.\n",
      "3. Patients initially started on VV-ECMO and then transitioned to VA ECMO.\n",
      "4. ECMO used for procedural support (ECMO deployed and decannulated in procedural area with no ICU ECMO care) or ECMO duration expected to be < 24 hours.\n",
      "5. Limitation of care in-place or being discussed.\n",
      "6. Congenital bleeding disorders.\n",
      "7. Hemoglobinopathies.\n",
      "8. Primary residence outside the country of enrollment.\n",
      "9. Concurrent participation in a separate interventional trial that has the potential to impact neurodevelopmental status of the patient (note that observational non-interventional studies do not qualify the patient for exclusion).\n",
      "10. Patients cannulated for ECMO at a non-trial center and transferred to a trial site.\n",
      "11. Randomization not possible within 36 hours following ECMO cannulation (e.g., due to staffing or delays related to communication with participant family).\n",
      "==================================================\n",
      "The exclusion criteria of the protocol are as follows:\n",
      "\n",
      "1. Gestationally-corrected age < 37 weeks.\n",
      "2. Veno-venous (VV) mode of ECMO.\n",
      "3. Patients initially started on VV-ECMO and then transitioned to VA ECMO.\n",
      "4. ECMO used for procedural support (ECMO deployed and decannulated in procedural area with no ICU ECMO care) or ECMO duration expected to be < 24 hours.\n",
      "5. Limitation of care in-place or being discussed.\n",
      "6. Congenital bleeding disorders.\n",
      "7. Hemoglobinopathies.\n",
      "8. Primary residence outside the country of enrollment.\n",
      "9. Concurrent participation in a separate interventional trial that has the potential to impact neurodevelopmental status of the patient (note that observational non-interventional studies do not qualify the patient for exclusion).\n",
      "10. Patients cannulated for ECMO at a non-trial center and transferred to a trial site.\n",
      "11. Randomization not possible within 36 hours following ECMO cannulation (e.g., due to staffing or delays related to communication with participant family).\n",
      "==================================================\n",
      "The exclusion criteria of the protocol are as follows:\n",
      "\n",
      "1. Gestationally-corrected age < 37 weeks.\n",
      "2. Veno-venous (VV) mode of ECMO.\n",
      "3. Patients initially started on VV-ECMO and then transitioned to VA ECMO.\n",
      "4. ECMO used for procedural support (ECMO deployed and decannulated in procedural area with no ICU ECMO care) or ECMO duration expected to be < 24 hours.\n",
      "5. Limitation of care in-place or being discussed.\n",
      "6. Congenital bleeding disorders.\n",
      "7. Hemoglobinopathies.\n",
      "8. Primary residence outside the country of enrollment.\n",
      "9. Concurrent participation in a separate interventional trial that has the potential to impact neurodevelopmental status of the patient (note that observational non-interventional studies do not qualify the patient for exclusion).\n",
      "10. Patients cannulated for ECMO at a non-trial center and transferred to a trial site.\n",
      "11. Randomization not possible within 36 hours following ECMO cannulation (e.g., due to staffing or delays related to communication with participant family).\n",
      "==================================================\n"
     ]
    }
   ],
   "source": [
    "exclusion_query(rag_chains)"
   ]
  },
  {
   "cell_type": "code",
   "execution_count": 15,
   "metadata": {},
   "outputs": [
    {
     "name": "stdout",
     "output_type": "stream",
     "text": [
      "SPECIFIC EXCLUSION CRITERIA QUERY\n",
      "==================================================\n",
      "The 4th exclusion criterion is: ECMO used for procedural support (ECMO deployed and decannulated in procedural area with no ICU ECMO care) or ECMO duration expected to be < 24 hours.\n",
      "\n",
      "The 7th exclusion criterion is: Hemoglobinopathies.\n",
      "==================================================\n",
      "The 4th exclusion criterion is \"ECMO used for procedural support (ECMO deployed and decannulated in procedural area with no ICU ECMO care) or ECMO duration expected to be < 24 h.\" The 7th exclusion criterion is \"Hemoglobinopathies.\"\n",
      "==================================================\n",
      "The 4th exclusion criterion is \"ECMO used for procedural support (ECMO deployed and decannulated in procedural area with no ICU ECMO care) or ECMO duration expected to be < 24 h.\" The 7th exclusion criterion is \"Hemoglobinopathies.\"\n",
      "==================================================\n",
      "The 4th exclusion criterion is \"ECMO used for procedural support (ECMO deployed and decannulated in procedural area with no ICU ECMO care) or ECMO duration expected to be < 24 h.\" The 7th exclusion criterion is \"Hemoglobinopathies.\"\n",
      "==================================================\n",
      "The 4th exclusion criterion is \"ECMO used for procedural support (ECMO deployed and decannulated in procedural area with no ICU ECMO care) or ECMO duration expected to be < 24 h.\" The 7th exclusion criterion is \"Hemoglobinopathies.\"\n",
      "==================================================\n",
      "The 4th exclusion criterion is \"ECMO used for procedural support (ECMO deployed and decannulated in procedural area with no ICU ECMO care) or ECMO duration expected to be < 24 h.\" The 7th exclusion criterion is \"Hemoglobinopathies.\"\n",
      "==================================================\n",
      "The 4th exclusion criterion is \"ECMO used for procedural support only, or ECMO duration expected to be < 24 h.\" The 7th exclusion criterion is \"Hemoglobinopathies.\"\n",
      "==================================================\n",
      "The 4th exclusion criterion is: \"ECMO used for procedural support (ECMO deployed and decannulated in procedural area with no ICU ECMO care) or ECMO duration expected to be < 24 h.\"\n",
      "\n",
      "The 7th exclusion criterion is: \"Hemoglobinopathies.\"\n",
      "==================================================\n",
      "The 4th exclusion criterion is: \"ECMO used for procedural support (ECMO deployed and decannulated in procedural area with no ICU ECMO care) or ECMO duration expected to be < 24 h.\"\n",
      "\n",
      "The 7th exclusion criterion is: \"Hemoglobinopathies.\"\n",
      "==================================================\n",
      "The 4th exclusion criterion is: \"ECMO used for procedural support (ECMO deployed and decannulated in procedural area with no ICU ECMO care) or ECMO duration expected to be < 24 h.\"\n",
      "\n",
      "The 7th exclusion criterion is: \"Hemoglobinopathies.\"\n",
      "==================================================\n"
     ]
    }
   ],
   "source": [
    "specific_exclusion_query(rag_chains)"
   ]
  },
  {
   "cell_type": "markdown",
   "metadata": {},
   "source": [
    "### Conclusions to this point\n",
    "---\n",
    "\n",
    "Chunk size and overlap do certainly affect the performance of retrieval, but this is much more pronounced when using the BGE model.  This is probably because it is a 768 embedding model.  \n",
    "\n",
    "Increasing k did not completely solve the issue when using BGE.  Lesson to me is to use the richest embedding model we can afford to use.\n",
    "\n",
    "With k = 10, and using the OpenAI embedding model, ALL the experiments succeed except one inclusion criterion query failed.\n",
    "\n",
    "The next experiment is to swap out the model and hit a local model on my laptop.  More to come!\n",
    "\n",
    "---"
   ]
  },
  {
   "cell_type": "markdown",
   "metadata": {},
   "source": [
    "I am pasting code from above so we can skip doing GPT-4o tests and skip straight to here."
   ]
  },
  {
   "cell_type": "code",
   "execution_count": 40,
   "metadata": {},
   "outputs": [],
   "source": [
    "k = 5\n",
    "retrievers = [\n",
    "    vectorStore1.as_retriever(search_kwargs={\"k\": k}),\n",
    "    vectorStore2.as_retriever(search_kwargs={\"k\": k}),\n",
    "    vectorStore3.as_retriever(search_kwargs={\"k\": k}),\n",
    "    vectorStore4.as_retriever(search_kwargs={\"k\": k}),\n",
    "    vectorStore5.as_retriever(search_kwargs={\"k\": k}),\n",
    "    vectorStore6.as_retriever(search_kwargs={\"k\": k}),\n",
    "    vectorStore7.as_retriever(search_kwargs={\"k\": k}),\n",
    "    vectorStore8.as_retriever(search_kwargs={\"k\": k}),\n",
    "    vectorStore9.as_retriever(search_kwargs={\"k\": k}),\n",
    "    vectorStore10.as_retriever(search_kwargs={\"k\": k})\n",
    "]"
   ]
  },
  {
   "cell_type": "markdown",
   "metadata": {},
   "source": [
    "## Llama 3.1 8b instruct on LM Studio\n",
    "Code below is same as earlier in notebook with substitution of llama-3.1-instruct running on my laptop."
   ]
  },
  {
   "cell_type": "code",
   "execution_count": 53,
   "metadata": {},
   "outputs": [],
   "source": [
    "from dean_utils.defaults import lmstudio_llama_8b_llm\n",
    "\n",
    "rag_prompt = ChatPromptTemplate.from_template(rag_prompt_template)\n",
    "llm = lmstudio_llama_8b_llm\n",
    "\n",
    "def create_rag_chains_with_metadata(retrievers, rag_prompt, llm, chunk_sizes, chunk_overlaps):\n",
    "    \"\"\"\n",
    "    Create RAG chains with metadata about chunk sizes and overlaps.\n",
    "    \"\"\"\n",
    "    rag_chains = {}\n",
    "    for i, (retriever, chunk_size, chunk_overlap) in enumerate(zip(retrievers, chunk_sizes, chunk_overlaps), 1):\n",
    "        chain_name = f\"rag_chain_{i}_chunk{chunk_size}_overlap{chunk_overlap}\"\n",
    "        rag_chains[chain_name] = {\n",
    "            \"chain\": (\n",
    "                {\"context\": itemgetter(\"question\") | retriever, \"question\": itemgetter(\"question\")}\n",
    "                | rag_prompt | llm | StrOutputParser()\n",
    "            ),\n",
    "            \"metadata\": {\n",
    "                \"chunk_size\": chunk_size,\n",
    "                \"chunk_overlap\": chunk_overlap\n",
    "            }\n",
    "        }\n",
    "    return rag_chains\n",
    "\n",
    "# Create chains with metadata\n",
    "chunk_sizes = [1000] * 5 + [2000] * 5  # First 5 are 1000, last 5 are 2000\n",
    "chunk_overlaps = [100, 200, 300, 400, 500] * 2  # Repeat for both chunk sizes\n",
    "rag_chains = create_rag_chains_with_metadata(retrievers, rag_prompt, llm, chunk_sizes, chunk_overlaps)\n"
   ]
  },
  {
   "cell_type": "code",
   "execution_count": 54,
   "metadata": {},
   "outputs": [
    {
     "name": "stdout",
     "output_type": "stream",
     "text": [
      "TITLE QUERY\n",
      "==================================================\n",
      "I can't answer based on the context.\n",
      "==================================================\n",
      "The title of the protocol is not explicitly mentioned in the provided context. However, it appears to be related to \"TITRE: Trial of Indication-based Transfusion of Red Blood Cells in ECMO\" and also referred to as \"Multicenter Trial of Indication- vs. Threshold-based Red Blood Cell Transfusion in ECMO\".\n",
      "==================================================\n",
      "The title of the protocol is Clinical Protocol TITRE-003.\n",
      "==================================================\n",
      "The title of the protocol is not explicitly mentioned in the provided context, but it appears to be related to \"TITRE: Trial of Indication-based Transfusion of Red Blood Cells in ECMO\" and also referred to as \"Clinical Protocol TITRE-003\".\n",
      "==================================================\n",
      "The title of the protocol is \"TITRE: Trial of Indication-based Transfusion of Red Blood Cells in ECMO\".\n",
      "==================================================\n",
      "The title of the protocol is \"TITRE: Trial of Indication-based Transfusion of Red Blood Cells in ECMO\".\n",
      "==================================================\n",
      "The title of the protocol is \"TITRE: Trial of Indication-based Transfusion of Red Blood Cells in ECMO\".\n",
      "==================================================\n",
      "The title of the protocol is \"TITRE: Trial of Indication-based Transfusion of Red Blood Cells in ECMO\".\n",
      "==================================================\n",
      "The title of the protocol is \"TITRE: Trial of Indication-based Transfusion of Red Blood Cells in ECMO\".\n",
      "==================================================\n",
      "The title of the protocol is \"TITRE: Trial of Indication-based Transfusion of Red Blood Cells in ECMO\".\n",
      "==================================================\n"
     ]
    }
   ],
   "source": [
    "\n",
    "from dean_utils.testQueries import title_query, inclusion_query, exclusion_query, specific_exclusion_query\n",
    "title_query(rag_chains)"
   ]
  },
  {
   "cell_type": "code",
   "execution_count": 55,
   "metadata": {},
   "outputs": [
    {
     "name": "stdout",
     "output_type": "stream",
     "text": [
      "INCLUSION CRITERIA QUERY\n",
      "==================================================\n",
      "According to the provided context, the inclusion criteria for the study are as follows:\n",
      "\n",
      "All patients who meet the following criteria will be included in the study:\n",
      "\n",
      "- Must meet all of the specified inclusion criteria.\n",
      "- The specific inclusion criteria are not explicitly listed in this part of the document. However, it is mentioned that they can be found under section 4.1 Inclusion Criteria (all must be met) on page 12.\n",
      "\n",
      "It seems like there might be more information about the inclusion criteria in another part of the document.\n",
      "==================================================\n",
      "Based on the provided context, I found that the inclusion criteria for the study are mentioned in section 4.1 of the protocol. The text states: \"INCLUSION CRITERIA (ALL MUST BE MET): ........................................................................... 12\". However, it does not explicitly list out the inclusion criteria.\n",
      "\n",
      "But later in another document, I found a mention of exclusion criteria which includes some information about the population that may exclude some participants who do not meet the compliance criterion for either of the 2 trial treatments. \n",
      "\n",
      "However, to find the actual inclusion criteria, I looked at another document where it mentions \"4 PARTICIPANT SELECTION AND WITHDRAWAL ....................................... 12 \\n4.1 INCLUSION CRITERIA (ALL MUST BE MET): ........................................................................... 12\". Unfortunately, this section is not provided in the text.\n",
      "\n",
      "However, looking at another document which has a similar structure to the first one I found that it mentions \"INCLUSION CRITERIA (ALL MUST BE MET): ........................................................................... 12\" but does not provide any information about what those criteria are. \n",
      "\n",
      "But then I looked at another document where it mentions \"4 PARTICIPANT SELECTION AND WITHDRAWAL ....................................... 12 \\n4.1 INCLUSION CRITERIA (ALL MUST BE MET): ........................................................................... 12\". Unfortunately, this section is also not provided in the text.\n",
      "\n",
      "However, looking at another document which has a similar structure to the first one I found that it mentions \"INCLUSION CRITERIA (ALL MUST BE MET): ........................................................................... 12\" but does not provide any information about what those criteria are. \n",
      "\n",
      "But then I looked at another document where it mentions exclusion criteria and some other information, however, there is no mention of inclusion criteria in this document.\n",
      "\n",
      "However, looking at the last document which has a similar structure to the first one I found that it mentions \"4 PARTICIPANT SELECTION AND WITHDRAWAL ....................................... 12 \\n4.1 INCLUSION CRITERIA (ALL MUST BE MET): ........................................................................... 12\". Unfortunately, this section is also not provided in the text.\n",
      "\n",
      "However, looking at another document which has a similar structure to the first one I found that it mentions \"INCLUSION CRITERIA (ALL MUST BE MET): ........................................................................... 12\" but does not provide any information about what those criteria are. \n",
      "\n",
      "Unfortunately, based on the context you provided, I was unable to find the inclusion criteria for the study.\n",
      "==================================================\n",
      "The inclusion criteria of the protocol are:\n",
      "\n",
      "1. Age < 6 years at ECMO cannulation\n",
      "2. Veno-arterial (VA) mode of ECMO\n",
      "3. First ECMO run during the index hospital admission \n",
      "\n",
      "In addition, patients must not meet any of the following exclusion criteria at the time of screening: \n",
      "1. Gestationally-corrected age <37 weeks\n",
      "2. Veno-venous (VV) mode of ECMO\n",
      "3. VV ECMO transitioned to VA ECMO\n",
      "4. ECMO used for procedural support only, or ECMO duration expected to be < 24 h\n",
      "5. Limitation of care in place or being discussed \n",
      "6. Congenital bleeding disorders \n",
      "7. Hemoglobinopathies \n",
      "8. Primary Residence outside Unites States or Canada \n",
      "9. Concurrent participation in a separate interventional trial that has the potential to impact neurodevelopmental status of the patient \n",
      "10. Patients cannulated for ECMO at a non-trial center and transferred to a trial site\n",
      "==================================================\n",
      "I can't answer based on the context provided as there is no specific information about the inclusion criteria in the given text.\n",
      "==================================================\n",
      "Based on the provided context, the inclusion criteria for the protocol are:\n",
      "\n",
      "1. Age < 6 years at ECMO cannulation\n",
      "2. Veno-arterial (VA) mode of ECMO\n",
      "3. First ECMO run during the index hospitalization \n",
      "\n",
      "These criteria are mentioned in section 4.1 Inclusion Criteria (all must be met): of the document.\n",
      "==================================================\n",
      "According to the provided context, the inclusion criteria for participation in the TITRE study are:\n",
      "\n",
      "1. Age < 6 years at ECMO cannulation\n",
      "2. Veno-arterial (VA) mode of ECMO\n",
      "3. First ECMO run during the index hospitalization\n",
      "==================================================\n",
      "The inclusion criteria for the study are as follows:\n",
      "\n",
      "Children supported with ECMO for any indication who meet all the following:\n",
      "\n",
      "1. Age < 6 years at ECMO cannulation\n",
      "2. Veno-arterial (VA) mode of ECMO\n",
      "3. First ECMO run during the index hospital admission\n",
      "\n",
      "In the absence of any of the following at the time of screening:\n",
      "\n",
      "1. Gestationally-corrected age <37 weeks\n",
      "2. Veno-venous (VV) mode of ECMO\n",
      "3. VV ECMO transitioned to VA ECMO\n",
      "4. ECMO used for procedural support only, or ECMO duration expected to be < 24 hours\n",
      "5. Limitation of care in place or being discussed\n",
      "6. Congenital bleeding disorders\n",
      "7. Hemoglobinopathies\n",
      "==================================================\n",
      "According to the provided context, the inclusion criteria for participation in the TITRE study are:\n",
      "\n",
      "1. Age < 6 years at ECMO cannulation\n",
      "2. Veno-arterial (VA) mode of ECMO\n",
      "3. First ECMO run during the index hospitalization \n",
      "\n",
      "These criteria are specified in Section 4.1 Inclusion Criteria of the protocol.\n",
      "==================================================\n",
      "According to the provided information, the inclusion criteria for participants in this study are:\n",
      "\n",
      "1. Age < 6 year at ECMO cannulation\n",
      "2. Veno-arterial (VA) mode of ECMO\n",
      "3. First ECMO run during the index hospital admission \n",
      "\n",
      "Additionally, there is a list of exclusion criteria, but these are not considered as inclusion criteria.\n",
      "==================================================\n",
      "According to the provided context, the inclusion criteria for participants in this study are:\n",
      "\n",
      "1. Age < 6 years at ECMO cannulation\n",
      "2. Veno-arterial (VA) mode of ECMO\n",
      "3. First ECMO run during the index hospitalization\n",
      "==================================================\n"
     ]
    }
   ],
   "source": [
    "inclusion_query(rag_chains)"
   ]
  },
  {
   "cell_type": "code",
   "execution_count": 20,
   "metadata": {},
   "outputs": [
    {
     "name": "stdout",
     "output_type": "stream",
     "text": [
      "EXCLUSION CRITERIA QUERY\n",
      "==================================================\n",
      "The exclusion criteria of the protocol include:\n",
      "\n",
      "1. Gestationally-corrected age <37 weeks\n",
      "2. Veno-venous (VV) mode of ECMO\n",
      "3. Patients initially started on VV-ECMO and then transitioned to VA ECMO \n",
      "4. ECMO used for procedural support (ECMO deployed and decannulated in procedural area with no ICU ECMO care) or ECMO duration expected to be < 24 h\n",
      "5. Limitation of care in-place or being discussed   \n",
      "6. Congenital bleeding disorders\n",
      "7. Hemoglobinopathies\n",
      "8. Primary Residence outside the country of enrollment.\n",
      "9. Concurrent participation in a separate interventional trial that has the potential to impact neurodevelopmental status of the patient\n",
      "==================================================\n",
      "The exclusion criteria of the protocol include:\n",
      "\n",
      "1. Gestationally-corrected age < 37 weeks\n",
      "2. Veno-venous (VV) mode of ECMO\n",
      "3. Patients initially started on VV-ECMO and then transitioned to VA ECMO\n",
      "4. ECMO used for procedural support or ECMO duration expected to be < 24 h\n",
      "5. Limitation of care in-place or being discussed\n",
      "6. Congenital bleeding disorders\n",
      "7. Hemoglobinopathies\n",
      "8. Primary Residence outside the country of enrollment\n",
      "9. Concurrent participation in a separate interventional trial that has the potential to impact neurodevelopmental status of the patient (note that observational non-interventional studies do not qualify the patient for exclusion)\n",
      "10. Patients cannulated for ECMO at a non-trial center and transferred to a trial site\n",
      "11. Randomization not possible within 36 hours following ECMO cannulation\n",
      "==================================================\n",
      "The exclusion criteria of the protocol include:\n",
      "\n",
      "1. Gestationally-corrected age < 37 weeks\n",
      "2. Veno-venous (VV) mode of ECMO\n",
      "3. Patients initially started on VV-ECMO and then transitioned to VA ECMO\n",
      "4. ECMO used for procedural support only, or ECMO duration expected to be < 24 h\n",
      "5. Limitation of care in place or being discussed\n",
      "6. Congenital bleeding disorders\n",
      "7. Hemoglobinopathies\n",
      "8. Primary Residence outside the United States or Canada\n",
      "9. Concurrent participation in a separate interventional trial that has the potential to impact neurodevelopmental status of the patient\n",
      "10. Patients cannulated for ECMO at a non-trial center and transferred to a trial site\n",
      "==================================================\n",
      "The exclusion criteria of the protocol include:\n",
      "\n",
      "1. Gestationally-corrected age < 37 weeks\n",
      "2. Veno-venous (VV) mode of ECMO\n",
      "3. Patients initially started on VV-ECMO and then transitioned to VA ECMO\n",
      "4. ECMO used for procedural support or ECMO duration expected to be < 24 h\n",
      "5. Limitation of care in-place or being discussed\n",
      "6. Congenital bleeding disorders\n",
      "7. Hemoglobinopathies\n",
      "8. Primary Residence outside the country of enrollment\n",
      "9. Concurrent participation in a separate interventional trial that has the potential to impact neurodevelopmental status of the patient (note that observational non-interventional studies do not qualify the patient for exclusion)\n",
      "10. Patients cannulated for ECMO at a non-trial center and transferred to a trial site\n",
      "11. Randomization not possible within 36 hours following ECMO cannulation\n",
      "==================================================\n",
      "Based on the provided context, the exclusion criteria of the protocol include:\n",
      "\n",
      "1. Gestationally-corrected age < 37 weeks\n",
      "2. Veno-venous (VV) mode of ECMO\n",
      "3. Patients initially started on VV-ECMO and then transitioned to VA ECMO\n",
      "4. ECMO used for procedural support or ECMO duration expected to be < 24 h\n",
      "5. Limitation of care in-place or being discussed\n",
      "6. Congenital bleeding disorders\n",
      "7. Hemoglobinopathies\n",
      "8. Primary Residence outside the country of enrollment\n",
      "9. Concurrent participation in a separate interventional trial that has the potential to impact neurodevelopmental status of the patient\n",
      "10. Patients cannulated for ECMO at a non-trial center and transferred to a trial site\n",
      "11. Randomization not possible within 36 hours following ECMO cannulation (e.g., due to staffing or delays related to communication with participant family)\n",
      "==================================================\n",
      "The exclusion criteria of the protocol include:\n",
      "\n",
      "1. Gestationally-corrected age <37 weeks\n",
      "2. Veno-venous (VV) mode of ECMO\n",
      "3. Patients initially started on VV-ECMO and then transitioned to VA ECMO\n",
      "4. ECMO used for procedural support or ECMO duration expected to be < 24 h\n",
      "5. Limitation of care in-place or being discussed\n",
      "6. Congenital bleeding disorders\n",
      "7. Hemoglobinopathies\n",
      "8. Primary Residence outside the country of enrollment\n",
      "9. Concurrent participation in a separate interventional trial that has the potential to impact neurodevelopmental status of the patient (note that observational non-interventional studies do not qualify the patient for exclusion)\n",
      "10. Patients cannulated for ECMO at a non-trial center and transferred to a trial site\n",
      "11. Randomization not possible within 36 hours following ECMO cannulation\n",
      "==================================================\n",
      "The exclusion criteria of the protocol include:\n",
      "\n",
      "1. Gestationally-corrected age <37 weeks\n",
      "2. Veno-venous (VV) mode of ECMO\n",
      "3. VV ECMO transitioned to VA ECMO\n",
      "4. ECMO used for procedural support only, or ECMO duration expected to be < 24 h\n",
      "5. Limitation of care in place or being discussed\n",
      "6. Congenital bleeding disorders\n",
      "7. Hemoglobinopathies\n",
      "8. Primary Residence outside Unites States or Canada\n",
      "9. Concurrent participation in a separate interventional trial that has the potential to impact neurodevelopmental status of the patient\n",
      "10. Patients cannulated for ECMO at a non-trial center and transferred to a trial site\n",
      "11. Randomization not possible within 36 h following ECMO cannulation (e.g., due to staffing or delays related to communication with participant family)\n",
      "==================================================\n",
      "The exclusion criteria of the protocol include:\n",
      "\n",
      "1. Gestationally-corrected age < 37 weeks\n",
      "2. Veno-venous (VV) mode of ECMO\n",
      "3. Patients initially started on VV-ECMO and then transitioned to VA ECMO\n",
      "4. ECMO used for procedural support (ECMO deployed and decannulated in procedural area with no ICU ECMO care) or ECMO duration expected to be < 24 h\n",
      "5. Limitation of care in-place or being discussed\n",
      "6. Congenital bleeding disorders\n",
      "7. Hemoglobinopathies\n",
      "8. Primary Residence outside the country of enrollment.\n",
      "9. Concurrent participation in a separate interventional trial that has the potential to impact neurodevelopmental status of the patient (note that observational non-interventional studies do not qualify the patient for exclusion)\n",
      "10. Patients cannulated for ECMO at a non-trial center and transferred to a trial site\n",
      "11. Randomization not possible within 36 hours following ECMO cannulation (e.g., due to staffing or delays related to communication with participant family)\n",
      "==================================================\n",
      "The exclusion criteria of the protocol include:\n",
      "\n",
      "1. Gestationally-corrected age < 37 weeks\n",
      "2. Veno-venous (VV) mode of ECMO\n",
      "3. Patients initially started on VV-ECMO and then transitioned to VA ECMO\n",
      "4. ECMO used for procedural support or ECMO duration expected to be < 24 h\n",
      "5. Limitation of care in-place or being discussed\n",
      "6. Congenital bleeding disorders\n",
      "7. Hemoglobinopathies\n",
      "8. Primary Residence outside the country of enrollment\n",
      "9. Concurrent participation in a separate interventional trial that has the potential to impact neurodevelopmental status of the patient\n",
      "10. Patients cannulated for ECMO at a non-trial center and transferred to a trial site\n",
      "11. Randomization not possible within 36 hours following ECMO cannulation\n",
      "==================================================\n",
      "According to the context, the exclusion criteria for the study are:\n",
      "\n",
      "1. Gestationally-corrected age < 37 weeks\n",
      "2. Veno-venous (VV) mode of ECMO\n",
      "3. Patients initially started on VV-ECMO and then transitioned to VA ECMO\n",
      "4. ECMO used for procedural support (ECMO deployed and decannulated in procedural area with no ICU ECMO care) or ECMO duration expected to be < 24 h\n",
      "5. Limitation of care in-place or being discussed\n",
      "6. Congenital bleeding disorders\n",
      "7. Hemoglobinopathies\n",
      "8. Primary Residence outside the country of enrollment.\n",
      "9. Concurrent participation in a separate interventional trial that has the potential to impact neurodevelopmental status of the patient (note that observational non-interventional studies do not qualify the patient for exclusion)\n",
      "10. Patients cannulated for ECMO at a non-trial center and transferred to a trial site\n",
      "11. Randomization not possible within 36 hours following ECMO cannulation (e.g., due to staffing or delays related to communication with participant family)\n",
      "==================================================\n"
     ]
    }
   ],
   "source": [
    "exclusion_query(rag_chains)"
   ]
  },
  {
   "cell_type": "code",
   "execution_count": 21,
   "metadata": {},
   "outputs": [
    {
     "name": "stdout",
     "output_type": "stream",
     "text": [
      "SPECIFIC EXCLUSION CRITERIA QUERY\n",
      "==================================================\n",
      "The 4th exclusion criterion is: ECMO used for procedural support (ECMO deployed and decannulated in procedural area with no ICU ECMO care) or ECMO duration expected to be < 24 h.\n",
      "\n",
      "The 7th exclusion criterion is: Congenital bleeding disorders.\n",
      "==================================================\n",
      "The 4th exclusion criterion is: ECMO used for procedural support only, or ECMO duration expected to be < 24 h.\n",
      "\n",
      "The 7th exclusion criterion is: Congenital bleeding disorders.\n",
      "==================================================\n",
      "Based on the provided context, the 4th Exclusion Criteria is: ECMO used for procedural support (ECMO deployed and decannulated in procedural area with no ICU ECMO care) or ECMO duration expected to be < 24 h.\n",
      "\n",
      "The 7th Exclusion Criteria is: Congenital bleeding disorders.\n",
      "==================================================\n",
      "Based on the provided context, the 4th exclusion criterion is: ECMO used for procedural support only, or ECMO duration expected to be < 24 h.\n",
      "\n",
      "The 7th exclusion criterion is: Hemoglobinopathies.\n",
      "==================================================\n",
      "Based on the context, the 4th exclusion criterion is 'ECMO used for procedural support (ECMO deployed and decannulated in procedural area with no ICU ECMO care) or ECMO duration expected to be < 24 h'. \n",
      "\n",
      "The 7th exclusion criterion is 'Hemoglobinopathies'.\n",
      "==================================================\n",
      "The 4th exclusion criterion is: ECMO used for procedural support (ECMO deployed and decannulated in procedural area with no ICU ECMO care) or ECMO duration expected to be < 24 h.\n",
      "\n",
      "The 7th exclusion criterion is: Congenital bleeding disorders.\n",
      "==================================================\n",
      "The 4th exclusion criterion is: ECMO used for procedural support only, or ECMO duration expected to be < 24 h.\n",
      "\n",
      "The 7th exclusion criterion is: Congenital bleeding disorders.\n",
      "==================================================\n",
      "The 4th exclusion criterion is: ECMO used for procedural support (ECMO deployed and decannulated in procedural area with no ICU ECMO care) or ECMO duration expected to be < 24 h.\n",
      "\n",
      "The 7th exclusion criterion is: Congenital bleeding disorders.\n",
      "==================================================\n",
      "The 4th exclusion criterion is: ECMO used for procedural support (ECMO deployed and decannulated in procedural area with no ICU ECMO care) or ECMO duration expected to be < 24 h.\n",
      "\n",
      "The 7th exclusion criterion is: Congenital bleeding disorders.\n",
      "==================================================\n",
      "The 4th exclusion criterion is: ECMO used for procedural support (ECMO deployed and decannulated in procedural area with no ICU ECMO care) or ECMO duration expected to be < 24 h.\n",
      "\n",
      "The 7th exclusion criterion is: Congenital bleeding disorders.\n",
      "==================================================\n"
     ]
    }
   ],
   "source": [
    "specific_exclusion_query(rag_chains)"
   ]
  },
  {
   "cell_type": "markdown",
   "metadata": {},
   "source": [
    "## Llama 3.1 8b instruct on ollama.\n",
    "Code below is same as earlier in notebook with substitution of llama-3.1-instruct running on my laptop.\n",
    "\n",
    "The results here should be identical to above, but this is using Ollama as server."
   ]
  },
  {
   "cell_type": "code",
   "execution_count": 37,
   "metadata": {},
   "outputs": [],
   "source": [
    "k = 5\n",
    "retrievers = [\n",
    "    vectorStore1.as_retriever(search_kwargs={\"k\": k}),\n",
    "    vectorStore2.as_retriever(search_kwargs={\"k\": k}),\n",
    "    vectorStore3.as_retriever(search_kwargs={\"k\": k}),\n",
    "    vectorStore4.as_retriever(search_kwargs={\"k\": k}),\n",
    "    vectorStore5.as_retriever(search_kwargs={\"k\": k}),\n",
    "    vectorStore6.as_retriever(search_kwargs={\"k\": k}),\n",
    "    vectorStore7.as_retriever(search_kwargs={\"k\": k}),\n",
    "    vectorStore8.as_retriever(search_kwargs={\"k\": k}),\n",
    "    vectorStore9.as_retriever(search_kwargs={\"k\": k}),\n",
    "    vectorStore10.as_retriever(search_kwargs={\"k\": k})\n",
    "]"
   ]
  },
  {
   "cell_type": "code",
   "execution_count": 48,
   "metadata": {},
   "outputs": [],
   "source": [
    "from dean_utils.defaults import ollama_llama_8b_llm\n",
    "\n",
    "rag_prompt = ChatPromptTemplate.from_template(rag_prompt_template)\n",
    "llm = ollama_llama_8b_llm\n",
    "\n",
    "def create_rag_chains_with_metadata(retrievers, rag_prompt, llm, chunk_sizes, chunk_overlaps):\n",
    "    \"\"\"\n",
    "    Create RAG chains with metadata about chunk sizes and overlaps.\n",
    "    \"\"\"\n",
    "    rag_chains = {}\n",
    "    for i, (retriever, chunk_size, chunk_overlap) in enumerate(zip(retrievers, chunk_sizes, chunk_overlaps), 1):\n",
    "        chain_name = f\"rag_chain_{i}_chunk{chunk_size}_overlap{chunk_overlap}\"\n",
    "        rag_chains[chain_name] = {\n",
    "            \"chain\": (\n",
    "                {\"context\": itemgetter(\"question\") | retriever, \"question\": itemgetter(\"question\")}\n",
    "                | rag_prompt | llm | StrOutputParser()\n",
    "            ),\n",
    "            \"metadata\": {\n",
    "                \"chunk_size\": chunk_size,\n",
    "                \"chunk_overlap\": chunk_overlap\n",
    "            }\n",
    "        }\n",
    "    return rag_chains\n",
    "\n",
    "# Create chains with metadata\n",
    "chunk_sizes = [1000] * 5 + [2000] * 5  # First 5 are 1000, last 5 are 2000\n",
    "chunk_overlaps = [100, 200, 300, 400, 500] * 2  # Repeat for both chunk sizes\n",
    "rag_chains = create_rag_chains_with_metadata(retrievers, rag_prompt, llm, chunk_sizes, chunk_overlaps)\n"
   ]
  },
  {
   "cell_type": "code",
   "execution_count": 49,
   "metadata": {},
   "outputs": [
    {
     "name": "stdout",
     "output_type": "stream",
     "text": [
      "TITLE QUERY\n",
      "==================================================\n",
      "The title of the protocol is not explicitly stated in the provided text, but it can be inferred from the document metadata and content.\n",
      "\n",
      "From the first document, we can see that the file path is \"TITRE-protocol.pdf\", which suggests that the title of the protocol is likely \"TITRE Protocol\".\n",
      "\n",
      "However, if we look at the second document, we can see that the title is explicitly stated as \"Clinical Protocol TITRE-003\". This seems to be a later version or iteration of the protocol.\n",
      "\n",
      "Therefore, based on the available information, it appears that the title of the protocol is either \"TITRE Protocol\" or \"Clinical Protocol TITRE-003\", depending on which document we consider.\n",
      "==================================================\n",
      "The title of the protocol is \"Clinical Protocol TITRE-003\".\n",
      "==================================================\n",
      "The title of the protocol is not explicitly stated in the provided text, but it can be inferred from the context. The first document contains a section titled \"7.1 STUDY TITLE\", which reads:\n",
      "\n",
      "\"Title: Indication-Based Red Blood Cell Transfusion vs Institutional-Specific Threshold-Based RBC Transfusion in Critically Ill Infants and Children on ECMO\"\n",
      "\n",
      "Therefore, the title of the protocol is likely \"Indication-Based Red Blood Cell Transfusion vs Institutional-Specific Threshold-Based RBC Transfusion in Critically Ill Infants and Children on ECMO\".\n",
      "==================================================\n",
      "The title of the protocol is \"Clinical Protocol TITRE-003\".\n",
      "==================================================\n",
      "The title of the protocol is not explicitly stated in the provided text. However, based on the content and the structure of the documents, it appears that the protocol is titled \"Clinical Protocol TITRE-003\".\n",
      "==================================================\n",
      "The title of the protocol is not explicitly stated in the provided text. However, based on the content and context, it appears to be a clinical trial protocol titled \"TITRE Trial\".\n",
      "==================================================\n",
      "The title of the protocol is not explicitly stated in the provided text. However, based on the content and the mention of \"Clinical Protocol TITRE-003\" in the page headers, it appears that the title of the protocol is likely \"TITRE-003\".\n",
      "==================================================\n",
      "The title of the protocol is not explicitly stated in the provided text. However, based on the content and the mention of \"TITRE\" throughout the document, it appears that the protocol is titled \"Clinical Protocol TITRE-003\".\n",
      "==================================================\n",
      "The title of the protocol is not explicitly stated in the provided text, but it can be inferred from the document metadata and the content of the protocol.\n",
      "\n",
      "From the metadata, we can see that the author's name is Ravi Thiagarajan, and the file path includes \"TITRE-protocol.pdf\", which suggests that the title of the protocol might be related to TITRE (Transfusion Indication in Children Requiring ECMO).\n",
      "\n",
      "Looking at the content of the protocol, it appears to be a clinical trial protocol for a study on transfusion indications in children requiring Extracorporeal Membrane Oxygenation (ECMO). The title of the protocol is likely \"TITRE-003: Transfusion Indication in Children Requiring ECMO\".\n",
      "\n",
      "However, without more information or a clear statement of the title in the provided text, it's difficult to provide a definitive answer.\n",
      "==================================================\n",
      "The title of the protocol is \"TITRE: Trial of Indication-based Transfusion of Red Blood Cells in ECMO\".\n",
      "==================================================\n"
     ]
    }
   ],
   "source": [
    "from dean_utils.testQueries import title_query, inclusion_query, exclusion_query, specific_exclusion_query\n",
    "title_query(rag_chains)"
   ]
  },
  {
   "cell_type": "code",
   "execution_count": 50,
   "metadata": {},
   "outputs": [
    {
     "name": "stdout",
     "output_type": "stream",
     "text": [
      "INCLUSION CRITERIA QUERY\n",
      "==================================================\n",
      "According to the provided text, the inclusion criteria for the protocol are:\n",
      "\n",
      "* Treatment of primary disease, location of ECMO cannulation, and care prior to participant enrollment are not specified by this protocol.\n",
      "* Treatment prior to consent for study participation will not influence qualification for study participation if an eligible participant meets screening inclusion/exclusion criteria.\n",
      "* All ECMO patients at trial sites will be screened for meeting study inclusion criteria after deployment.\n",
      "* If the patient meets inclusion criteria, and does not have any exclusion criteria, parent(s) or LAR(s) will be approached for study participation.\n",
      "\n",
      "Note that these are not specific medical or demographic criteria, but rather a set of conditions that must be met in order to participate in the study.\n",
      "==================================================\n",
      "According to the provided text, the inclusion criteria of the protocol are:\n",
      "\n",
      "1. Gestationally-corrected age ≥ 37 weeks\n",
      "2. Veno-arterial (VA) mode of ECMO\n",
      "3. Patients initially started on VA-ECMO and then transitioned to VV ECMO \n",
      "4. ECMO used for non-procedural support (ECMO deployed and decannulated in procedural area with ICU ECMO care) or ECMO duration expected to be ≥ 24 h\n",
      "5. No limitation of care in-place or being discussed  \n",
      "6. No congenital bleeding disorders \n",
      "7. No hemoglobinopathies \n",
      "8. Primary Residence within the country of enrollment.\n",
      "9. Not concurrently participating in a separate interventional trial that has the potential to impact neurodevelopmental status of the patient (note that observational non-interventional studies do not qualify the patient for exclusion)\n",
      "10. Patients cannulated for ECMO at a trial center \n",
      "\n",
      "Note: The inclusion criteria are implied by the text as the opposite of the exclusion criteria listed in section 4.2.\n",
      "==================================================\n",
      "According to the provided text, the inclusion criteria of the protocol are:\n",
      "\n",
      "1. Age < 6 years at ECMO cannulation\n",
      "2. Veno-arterial (VA) mode of ECMO\n",
      "3. First ECMO run during the index hospital admission\n",
      "\n",
      "These criteria are specified in the document with the metadata ID '840f4bf5-4f07-4a44-b4f3-791686585b1e' and page content \"228 participants\\n\\x0cBoston Children's Hospital/Thiagarajan \\nCONFIDENTIAL \\nPage 4 of 49 \\n4 \\nDiagnosis and Main \\nInclusion Criteria ...\".\n",
      "==================================================\n",
      "The inclusion criteria of the protocol are:\n",
      "\n",
      "1. Gestationally-corrected age ≥ 37 weeks\n",
      "2. Veno-arterial (VA) mode of ECMO\n",
      "3. Patients initially started on VA-ECMO and then transitioned to another mode of ECMO \n",
      "4. ECMO used for ICU care with an expected duration of ≥ 24 h\n",
      "5. No limitation of care in-place or being discussed\n",
      "6. No congenital bleeding disorders\n",
      "7. No hemoglobinopathies\n",
      "8. Primary Residence within the country of enrollment.\n",
      "9. Not concurrently participating in a separate interventional trial that has the potential to impact neurodevelopmental status of the patient (note that observational non-interventional studies do not qualify the patient for exclusion)\n",
      "10. Patients cannulated for ECMO at a trial center \n",
      "\n",
      "Note: The inclusion criteria are listed as \"Inclusion Criteria\" in section 4.1 of the protocol, but they are actually stated under the heading \"Exclusion Criteria (any single criterion met at time of screening excludes the patient)\" with a note that they should be read as inclusion criteria.\n",
      "==================================================\n",
      "The inclusion criteria of the protocol are:\n",
      "\n",
      "1. Age < 6 year at ECMO cannulation\n",
      "2. Veno-arterial (VA) mode of ECMO\n",
      "3. First ECMO run during the index hospitalization\n",
      "\n",
      "These criteria can be found in the document with metadata `_id` equal to `e1f9bb25-a348-433f-ac95-f71ea826bc55`.\n",
      "==================================================\n",
      "According to the provided text, the inclusion criteria of the protocol are:\n",
      "\n",
      "* The patient must be on ECMO (Extracorporeal Membrane Oxygenation)\n",
      "* The patient's indication for RBC transfusion is based on clinical judgment\n",
      "* The patient's age and weight are not specified as exclusion criteria, but other specific conditions such as \"previous history of stroke or transient ischemic attack\" are mentioned as exclusion criteria.\n",
      "\n",
      "However, the text does not explicitly state the inclusion criteria. It mentions that patients who meet certain criteria will be included in the study, but it does not provide a clear list of these criteria.\n",
      "\n",
      "To find the inclusion criteria, I would recommend searching for the specific section of the protocol that outlines the eligibility criteria for participants. This is typically found in the \"Inclusion/Exclusion Criteria\" or \"Eligibility Criteria\" section of the protocol.\n",
      "==================================================\n",
      "According to the provided text, the inclusion criteria for the study are:\n",
      "\n",
      "Children supported with ECMO for any indication who meet all the following:\n",
      "\n",
      "1. Age < 6 year at ECMO cannulation\n",
      "2. Veno-arterial (VA) mode of ECMO\n",
      "3. First ECMO run during the index hospital admission\n",
      "\n",
      "In the absence of any of the following at the time of screening:\n",
      "\n",
      "1. Gestationally-corrected age <37 weeks\n",
      "2. Veno-venous (VV) mode of ECMO\n",
      "3. VV ECMO transitioned to VA ECMO\n",
      "4. ECMO used for procedural support only, or ECMO duration expected to be < 24 h\n",
      "5. Limitation of care in place or being discussed\n",
      "6. Congenital bleeding disorders\n",
      "7. Hemoglobinopathies\n",
      "==================================================\n",
      "According to the provided text, the inclusion criteria for the TITRE study are:\n",
      "\n",
      "* Age ≤28 days at randomization\n",
      "* Single ventricle anatomy and age <1 year at randomization\n",
      "* Hb < 10 g/dL or HCT <30% (if any of the above conditions apply)\n",
      "\n",
      "These criteria are mentioned in section 3.1 of the protocol, which is not fully visible in the provided text snippet. However, based on the context, it appears that these criteria are related to the indication-based RBC transfusion strategy for patients undergoing ECMO support.\n",
      "==================================================\n",
      "According to the provided text, the inclusion criteria for the protocol are:\n",
      "\n",
      "1. Patients must be cannulated for ECMO at a trial site.\n",
      "2. Randomization must be possible within 36 hours following ECMO cannulation.\n",
      "\n",
      "Additionally, patients who meet any of the following conditions will be excluded from the study:\n",
      "\n",
      "1. Congenital bleeding disorders\n",
      "2. Hemoglobinopathies\n",
      "3. Primary Residence outside the country of enrollment\n",
      "4. Concurrent participation in a separate interventional trial that has the potential to impact neurodevelopmental status of the patient\n",
      "5. Patients cannulated for ECMO at a non-trial center and transferred to a trial site\n",
      "6. Limitation of care in-place or being discussed\n",
      "==================================================\n",
      "According to the provided text, the inclusion criteria for the TITRE protocol are:\n",
      "\n",
      "1. Gestationally-corrected age ≥ 37 weeks\n",
      "2. Veno-arterial (VA) mode of ECMO\n",
      "3. First ECMO run during the index hospitalization\n",
      "\n",
      "These criteria are listed under Section 4.2 \"Exclusion Criteria\" in the text, but since they are actually inclusion criteria, I have rephrased them accordingly.\n",
      "\n",
      "Note that there is a mistake in the original text, where criterion 1 is listed as an exclusion criterion instead of an inclusion criterion.\n",
      "==================================================\n"
     ]
    }
   ],
   "source": [
    "inclusion_query(rag_chains)"
   ]
  },
  {
   "cell_type": "code",
   "execution_count": 51,
   "metadata": {},
   "outputs": [
    {
     "name": "stdout",
     "output_type": "stream",
     "text": [
      "EXCLUSION CRITERIA QUERY\n",
      "==================================================\n",
      "According to the provided documents, the exclusion criteria of the protocol are:\n",
      "\n",
      "1. Gestational age < 36 weeks\n",
      "2. ECMO cannulation at a non-trial center\n",
      "3. Concurrent participation in a separate interventional trial that has the potential to impact neurodevelopmental status of the patient\n",
      "4. Patients who have undergone cardiac surgery or intervention within 30 days prior to enrollment\n",
      "5. Patients with a history of neurological injury or disease (e.g., stroke, traumatic brain injury)\n",
      "6. Patients with a known genetic disorder affecting the central nervous system\n",
      "7. Patients with a known chromosomal abnormality\n",
      "8. Patients with a known congenital anomaly that may affect neurodevelopmental outcome\n",
      "\n",
      "Note: These exclusion criteria are not explicitly listed in the provided documents, but rather inferred from the text. The actual exclusion criteria may be different and should be verified by consulting the original protocol document.\n",
      "==================================================\n",
      "The exclusion criteria of the protocol are:\n",
      "\n",
      "1. Gestationally-corrected age <37 weeks\n",
      "2. Veno-venous (VV) mode of ECMO\n",
      "3. VV ECMO transitioned to VA ECMO\n",
      "4. ECMO used for procedural support only, or ECMO duration expected to be < 24 h\n",
      "5. Limitation of care in place or being discussed\n",
      "6. Congenital bleeding disorders\n",
      "7. Hemoglobinopathies\n",
      "8. Primary Residence outside Unites States or Canada\n",
      "9. Concurrent participation in a separate interventional trial that has the potential to impact neurodevelopmental status of the patient\n",
      "10. Patients cannulated for ECMO at a non-trial center and \n",
      "\n",
      "These exclusion criteria are mentioned in multiple documents, specifically:\n",
      "\n",
      "* Document 2: \"In the absence of any of the following at the time of screening: ... \"\n",
      "* Document 3: \"In the absence of any of the following at the time of screening: ... \"\n",
      "* Document 4: \"The population may exclude some participants who do not meet the compliance criterion for either of the 2 trial treatments.\" (This one is a bit more indirect, but it implies that exclusion criteria are present)\n",
      "\n",
      "Note that these exclusion criteria might be mentioned in other documents as well, but they are clearly stated in these three documents.\n",
      "==================================================\n",
      "According to the provided documents, the exclusion criteria of the protocol are:\n",
      "\n",
      "1. Gestationally-corrected age < 37 weeks\n",
      "2. Veno-venous (VV) mode of ECMO\n",
      "3. Patients initially started on VV-ECMO and then transitioned to VA ECMO\n",
      "4. ECMO used for procedural support only, or ECMO duration expected to be < 24 h\n",
      "5. Limitation of care in place or being discussed\n",
      "6. Congenital bleeding disorders\n",
      "7. Hemoglobinopathies\n",
      "8. Primary Residence outside Unites States or Canada\n",
      "9. Concurrent participation in a separate interventional trial that has the potential to impact neurodevelopmental status of the patient\n",
      "10. Patients cannulated for ECMO at a non-trial center and transferred to a trial site\n",
      "==================================================\n",
      "According to the provided text, the exclusion criteria of the protocol are:\n",
      "\n",
      "1. Persistent or significant incapacity/disability\n",
      "2. Requires hospitalization or prolongs hospitalization (Note: a pre-scheduled hospitalization is not considered an SAE nor are hospital stays less than 12 hours in duration). Hospitalization unrelated to the SAE is excluded (e.g. social hospitalization such as a parent/family unable to find transportation during the night).\n",
      "3. Congenital anomaly/birth defect (not applicable for this trial)\n",
      "4. Any other medically important event that, in the opinion of the clinical site PI, jeopardizes the participant and may require medical or surgical intervention to prevent one of the outcomes listed above.\n",
      "\n",
      "These exclusion criteria are mentioned on page 24 of the protocol document.\n",
      "==================================================\n",
      "According to the provided documents, the exclusion criteria of the protocol are:\n",
      "\n",
      "1. ECMO used for procedural support (ECMO deployed and decannulated in procedural area with no ICU ECMO care) or ECMO duration expected to be < 24 h\n",
      "2. Limitation of care in-place or being discussed\n",
      "3. Congenital bleeding disorders\n",
      "4. Hemoglobinopathies\n",
      "5. Primary Residence outside the country of enrollment.\n",
      "6. Concurrent participation in a separate interventional trial that has the potential to impact neurodevelopmental status of the patient (note that observational non-interventional studies do not qualify the patient for exclusion)\n",
      "7. Patients cannulated for ECMO at a non-trial center and transferred to a trial site\n",
      "8. Randomization not possible within 36 hours following ECMO cannulation (e.g., due to staffing or delays related to communication with participant family)\n",
      "\n",
      "Note that these criteria are mentioned in multiple documents, but the list is consistent across all of them.\n",
      "==================================================\n",
      "According to the text, the exclusion criteria of the protocol are:\n",
      "\n",
      "1. Gestationally-corrected age <37 weeks\n",
      "2. Veno-venous (VV) mode of ECMO\n",
      "3. VV ECMO transitioned to VA ECMO\n",
      "4. ECMO used for procedural support only, or ECMO duration expected to be < 24 h\n",
      "5. Limitation of care in place or being discussed\n",
      "6. Congenital bleeding disorders\n",
      "7. Hemoglobinopathies\n",
      "8. Primary Residence outside Unites States or Canada\n",
      "9. Concurrent participation in a separate interventional trial that has the potential to impact neurodevelopmental status of the patient\n",
      "10. Patients cannulated for ECMO at a non-trial center and transferred to a trial site\n",
      "11. Randomization not possible within 36 h following ECMO cannulation (e.g., due to staffing or delays related to communication with participant family)\n",
      "==================================================\n",
      "According to the provided text, the exclusion criteria of the protocol are:\n",
      "\n",
      "1. ECMO used for procedural support only, or ECMO duration expected to be < 24 h\n",
      "2. Limitation of care in place or being discussed\n",
      "3. Congenital bleeding disorders\n",
      "4. Hemoglobinopathies\n",
      "5. Primary Residence outside Unites States or Canada\n",
      "6. Concurrent participation in a separate interventional trial that has the potential to impact neurodevelopmental status of the patient\n",
      "7. Patients cannulated for ECMO at a non-trial center and transferred to a trial site\n",
      "8. Randomization not possible within 36 h following ECMO cannulation (e.g., due to staffing or delays related to communication with participant family)\n",
      "==================================================\n",
      "The text does not explicitly mention the exclusion criteria of the protocol. However, it mentions that participants will be assigned to one of two study transfusion strategy arms in a ratio of 1:1 after they are confirmed to meet all eligibility criteria and provide informed consent.\n",
      "\n",
      "Later on, it describes the inclusion criteria for the indication-based RBC transfusion strategy arm, which includes specific conditions such as moderate or severe bleeding, reduced tissue DO2, and Hb/HCT threshold criteria. However, this does not necessarily imply that these conditions are exclusion criteria for the entire protocol.\n",
      "\n",
      "To determine the exclusion criteria of the protocol, we would need to look at the text more closely and identify any language that explicitly states what conditions would prevent a participant from being included in the study.\n",
      "==================================================\n",
      "According to the text, the exclusion criteria of the protocol are not explicitly stated. However, it mentions that certain patients may be too ill to return for assessments (in the context of sensitivity analyses for Aim 2), but this is not a formal exclusion criterion.\n",
      "\n",
      "The closest information related to exclusion criteria is in Section 9.3 Confidentiality, where it states that \"Information about study participants will be kept confidential and managed according to the\" regulations, but this does not provide any specific exclusion criteria.\n",
      "\n",
      "However, if we look at the text again, we can find some hints of exclusion criteria in Section 8.5 Publication of Study Results, where it mentions that patients who do not complete the assessment for Aim 2 will be compared with those who do complete it to assess the generalizability of trial results. This suggests that patients who do not complete the assessment may be excluded from certain analyses or outcomes.\n",
      "\n",
      "But again, this is not a formal exclusion criterion, and we cannot conclude that these patients are formally excluded from the study based on this text alone.\n",
      "\n",
      "If you need more information about the exclusion criteria, I would recommend looking at other sections of the protocol or contacting the sponsor or investigator directly.\n",
      "==================================================\n",
      "The exclusion criteria of the protocol are not explicitly stated in the provided text. However, it can be inferred from the definition of the Modified ITT Population that patients who fail any trial eligibility criterion measured prior to randomization will be excluded.\n",
      "\n",
      "Specifically, the text states:\n",
      "\n",
      "\"(2) Modified ITT Population: The subset of patients in the ITT Population who were not found post-randomization to have failed any trial eligibility criterion that was measured prior to randomization (i.e., excludes ineligible patients who were randomized in error).\"\n",
      "==================================================\n"
     ]
    }
   ],
   "source": [
    "exclusion_query(rag_chains)"
   ]
  },
  {
   "cell_type": "code",
   "execution_count": 52,
   "metadata": {},
   "outputs": [
    {
     "name": "stdout",
     "output_type": "stream",
     "text": [
      "SPECIFIC EXCLUSION CRITERIA QUERY\n",
      "==================================================\n",
      "The 4th exclusion criterion is: \"ECMO at a non-trial center and\"\n",
      "\n",
      "The 7th exclusion criterion is not explicitly mentioned in the provided text. However, based on the context, it appears that there are only 10 exclusion criteria listed, with the 7th one being:\n",
      "\n",
      "\"Patients cannulated for ECMO at a non-trial center and\"\n",
      "==================================================\n",
      "Based on the provided text, the 4th exclusion criterion is:\n",
      "\n",
      "\"ECMO used for procedural support only, or ECMO duration expected to be < 24 h\"\n",
      "\n",
      "The 7th exclusion criterion is:\n",
      "\n",
      "\"Congenital bleeding disorders\"\n",
      "==================================================\n",
      "According to the provided documents, the 4th exclusion criterion is:\n",
      "\n",
      "\"Patients initially started on VV-ECMO and then transitioned to VA ECMO\"\n",
      "\n",
      "And the 7th exclusion criterion is not explicitly mentioned in the provided text. However, based on the context, it seems that there are only 6 exclusion criteria listed, so there is no 7th exclusion criterion.\n",
      "\n",
      "Here are the first 6 exclusion criteria:\n",
      "\n",
      "1. Gestationally-corrected age < 37 weeks\n",
      "2. Veno-venous (VV) mode of ECMO\n",
      "3. Patients initially started on VV-ECMO and then transitioned to VA ECMO\n",
      "4. \n",
      "5. \n",
      "6.\n",
      "==================================================\n",
      "Based on the provided text, the 4th exclusion criterion is:\n",
      "\n",
      "\"Requires hospitalization or prolongs hospitalization (Note: a pre-scheduled hospitalization is not considered an SAE nor are hospital stays less than 12 hours in duration). Hospitalization unrelated to the SAE is excluded (e.g. social hospitalization such as a parent/family unable to find transportation during the night). \"\n",
      "\n",
      "The 7th exclusion criterion is:\n",
      "\n",
      "\"Any other medically important event that, in the opinion of the clinical site PI, jeopardizes the participant and may require medical or surgical intervention to prevent one of the outcomes listed above Examples of other medically significant events include allergic bronchospasm requiring intensive treatment in an emergency department or home, laboratory abnormalities that results in hospitalization.\"\n",
      "==================================================\n",
      "The 4th exclusion criterion is:\n",
      "\n",
      "\"ECMO used for procedural support only, or ECMO duration expected to be < 24 h\"\n",
      "\n",
      "The 7th exclusion criterion is:\n",
      "\n",
      "\"Hemoglobinopathies\"\n",
      "==================================================\n",
      "Based on the provided text, the 4th exclusion criterion is:\n",
      "\n",
      "\"4. ECMO used for procedural support only, or ECMO duration expected to be < 24 h\"\n",
      "\n",
      "The 7th exclusion criterion is:\n",
      "\n",
      "\"7. Congenital bleeding disorders\"\n",
      "==================================================\n",
      "According to the text, the 4th exclusion criterion is:\n",
      "\n",
      "\"4. Hb < 8 g/dL or HCT < 25%:  for all other patients\"\n",
      "\n",
      "And the 7th exclusion criterion is not explicitly mentioned in the provided text. However, based on the context, it seems that the text is describing a protocol and its exclusion criteria are listed as follows:\n",
      "\n",
      "1. Bleeding;\n",
      "2. Reduced tissue oxygen delivery, defined as a blood lactate level ≥ 5 mmol/L, or > 3 mmol/L and increasing on 2 measurements done 2 hours apart, after optimizing ECMO flow; or\n",
      "3. Hb/HCT threshold: \n",
      "     a. Hb < 10 g/dL or HCT <30%:  if age≤28 days at randomization or if patient has single ventricle anatomy and is age <1 year at randomization\n",
      "     b.  Hb < 8 g/dL or HCT < 25%:  for all other patients\n",
      "\n",
      "So, the 7th exclusion criterion is not explicitly mentioned in the provided text.\n",
      "==================================================\n",
      "I don't see any mention of \"exclusion criteria\" in the provided text. However, I do see a list of conditions that would lead to administration of blood transfusions under certain circumstances.\n",
      "\n",
      "If you're looking for information on when blood transfusions are administered based on Hb/HCT levels, it appears that:\n",
      "\n",
      "* If age ≤28 days at randomization or if patient has single ventricle anatomy and is age <1 year at randomization, then a Hb < 10 g/dL or HCT <30% would trigger administration of blood transfusions.\n",
      "\n",
      "This information seems to be related to the \"Hb/HCT Threshold Criteria\" section.\n",
      "==================================================\n",
      "Based on the provided text, I can help you find the answer.\n",
      "\n",
      "The 4th exclusion criterion is not explicitly mentioned in the provided text. However, we can see that there are several sections discussing inclusion and exclusion criteria, but they are not clearly numbered or listed.\n",
      "\n",
      "The 7th exclusion criterion is also not explicitly mentioned in the provided text.\n",
      "\n",
      "However, I can suggest where you might find this information:\n",
      "\n",
      "* In the first document (metadata: 'da78b31f-0590-40fe-bf90-7041f3ecfdc0'), page_content starts with \"4.4.2 Withdrawal from Trial ...\". You may need to scroll up or down to find the relevant section discussing exclusion criteria.\n",
      "* In the second document (metadata: 'da78b31f-0590-40fe-bf90-7041f3ecfdc0'), page_content starts with \"5 STUDY INTERVENTION ...\". Again, you may need to scroll up or down to find the relevant section discussing exclusion criteria.\n",
      "\n",
      "If you can provide more context or clarify which document and section you are referring to, I'll be happy to help further.\n",
      "==================================================\n",
      "The provided text does not contain information about exclusion criteria, but rather details about the study design, population definitions, analysis plan, and safety procedures. Therefore, I cannot determine the 4th and 7th exclusion criteria of the protocol based on the given text.\n",
      "\n",
      "However, if you're looking for information on exclusion criteria in general, it's usually found in the \"Inclusion/Exclusion Criteria\" section of a clinical trial protocol. If you have access to the full protocol document or can provide more context, I may be able to help further.\n",
      "==================================================\n"
     ]
    }
   ],
   "source": [
    "specific_exclusion_query(rag_chains)"
   ]
  },
  {
   "cell_type": "markdown",
   "metadata": {},
   "source": [
    "### What about semantic chunking?"
   ]
  },
  {
   "cell_type": "code",
   "execution_count": 6,
   "metadata": {},
   "outputs": [],
   "source": [
    "from langchain_experimental.text_splitter import SemanticChunker\n",
    "from dean_utils.defaults  import te3_embedding_model\n",
    "from langchain_community.document_loaders import PyMuPDFLoader\n",
    "\n",
    "# Load the protocol and cut it up into chunks\n",
    "loader = PyMuPDFLoader(\"TITRE-protocol.pdf\", mode=\"single\")\n",
    "pages = loader.load()\n",
    "\n",
    "semantic_chunker = SemanticChunker(\n",
    "    te3_embedding_model,\n",
    "    breakpoint_threshold_type=\"percentile\"\n",
    ")"
   ]
  },
  {
   "cell_type": "code",
   "execution_count": 8,
   "metadata": {},
   "outputs": [],
   "source": [
    "semantic_documents = semantic_chunker.split_documents(pages)"
   ]
  },
  {
   "cell_type": "code",
   "execution_count": 9,
   "metadata": {},
   "outputs": [
    {
     "data": {
      "text/plain": [
       "44"
      ]
     },
     "execution_count": 9,
     "metadata": {},
     "output_type": "execute_result"
    }
   ],
   "source": [
    "len(semantic_documents)"
   ]
  },
  {
   "cell_type": "code",
   "execution_count": 10,
   "metadata": {},
   "outputs": [],
   "source": [
    "from langchain_qdrant import QdrantVectorStore\n",
    "semantic_vectorstore = QdrantVectorStore.from_documents(\n",
    "    semantic_documents,\n",
    "    te3_embedding_model,\n",
    "    collection_name = \"semantic collection\",\n",
    "    url = \"http://localhost:6333\"\n",
    ")"
   ]
  },
  {
   "cell_type": "code",
   "execution_count": 53,
   "metadata": {},
   "outputs": [],
   "source": [
    "from dean_utils.defaults import lmstudio_llama_8b_llm, ollama_llama_8b_llm\n",
    "from langchain.prompts import ChatPromptTemplate\n",
    "from langchain.schema.output_parser import StrOutputParser\n",
    "from langchain_core.runnables import RunnablePassthrough\n",
    "from operator import itemgetter\n",
    "from dean_utils.prompts import rag_prompt_template\n",
    "\n",
    "semantic_retriever = semantic_vectorstore.as_retriever(search_kwargs={\"k\": 5})\n",
    "llm = lmstudio_llama_8b_llm\n",
    "# llm = ollama_llama_8b_llm\n",
    "rag_prompt = ChatPromptTemplate.from_template(rag_prompt_template)\n",
    "\n",
    "semantic_retrieval_chain = (\n",
    "    {\"context\": itemgetter(\"question\") | semantic_retriever, \"question\": itemgetter(\"question\")}\n",
    "    | rag_prompt | llm | StrOutputParser()\n",
    ")"
   ]
  },
  {
   "cell_type": "code",
   "execution_count": 46,
   "metadata": {},
   "outputs": [
    {
     "data": {
      "text/plain": [
       "'TITRE: Trial of Indication-Based Transfusion of Red Blood Cells in ECMO'"
      ]
     },
     "execution_count": 46,
     "metadata": {},
     "output_type": "execute_result"
    }
   ],
   "source": [
    "semantic_retrieval_chain.invoke({\"question\":\"What is the title of this protocol?\"})"
   ]
  },
  {
   "cell_type": "code",
   "execution_count": 47,
   "metadata": {},
   "outputs": [],
   "source": [
    "response = semantic_retrieval_chain.invoke({\"question\":\"What are the inclusion criteria of this protocol?\"})"
   ]
  },
  {
   "cell_type": "code",
   "execution_count": 48,
   "metadata": {},
   "outputs": [
    {
     "name": "stdout",
     "output_type": "stream",
     "text": [
      "Children supported with ECMO for any indication who meet all the following:\n",
      "\n",
      "1. Age < 6 year at ECMO cannulation\n",
      "2. Veno-arterial (VA) mode of ECMO\n",
      "3. First ECMO run during the index hospital admission\n",
      "\n",
      "In the absence of any of the following at the time of screening:\n",
      "\n",
      "1. Gestationally-corrected age <37 weeks\n",
      "2. Veno-venous (VV) mode of ECMO\n",
      "3. VV ECMO transitioned to VA ECMO\n",
      "4. ECMO used for procedural support only, or ECMO duration expected to be < 24 h\n",
      "5. Limitation of care in place or being discussed\n",
      "6. Congenital bleeding disorders\n",
      "7. Hemoglobinopathies\n",
      "8. Primary Residence outside Unites States or Canada\n",
      "9. Concurrent participation in a separate interventional trial that has the potential to impact neurodevelopmental status of the patient\n",
      "10. Patients cannulated for ECMO at a non-trial center and transferred to a trial site\n",
      "11. Randomization not possible within 36 h following ECMO cannulation (e.g., due to staffing or delays related to communication with participant family)\n"
     ]
    }
   ],
   "source": [
    "print(response)"
   ]
  },
  {
   "cell_type": "code",
   "execution_count": 59,
   "metadata": {},
   "outputs": [],
   "source": [
    "response = semantic_retrieval_chain.invoke({\"question\":\"What is the 7th exclusion criterion of this protocol?\"})"
   ]
  },
  {
   "cell_type": "code",
   "execution_count": 60,
   "metadata": {},
   "outputs": [
    {
     "name": "stdout",
     "output_type": "stream",
     "text": [
      "The 7th exclusion criterion of this protocol is \"Hemoglobinopathies\".\n"
     ]
    }
   ],
   "source": [
    "print(response)"
   ]
  },
  {
   "cell_type": "code",
   "execution_count": 69,
   "metadata": {},
   "outputs": [],
   "source": [
    "response = semantic_retrieval_chain.invoke({\"question\":\"What are the 7th and 9th exclusion criteria of this protocol?\"})"
   ]
  },
  {
   "cell_type": "code",
   "execution_count": 70,
   "metadata": {},
   "outputs": [
    {
     "name": "stdout",
     "output_type": "stream",
     "text": [
      "The 7th exclusion criterion is \"Congenital bleeding disorders\" and the 9th exclusion criterion is \"Concurrent participation in a separate interventional trial that has the potential to impact neurodevelopmental status of the patient\".\n"
     ]
    }
   ],
   "source": [
    "print(response)"
   ]
  },
  {
   "cell_type": "code",
   "execution_count": 71,
   "metadata": {},
   "outputs": [],
   "source": [
    "response = semantic_retrieval_chain.invoke({\"question\":\"Summarize the hypotheses of this protocol?\"})"
   ]
  },
  {
   "cell_type": "code",
   "execution_count": 73,
   "metadata": {},
   "outputs": [
    {
     "name": "stdout",
     "output_type": "stream",
     "text": [
      "The primary hypothesis of this protocol is that children < 6 years old on ECMO support who are randomized to an indication-based RBC transfusion strategy will have greater improvement in organ function, as measured by change in the Pediatric Sequential Organ Failure Score (pSOFA) from pre-ECMO cannulation to decannulation (or 30 days post-randomization, whichever is earliest), compared with those managed with a center-specific threshold-based RBC transfusion strategy.\n",
      "\n",
      "The secondary hypothesis is that children < 6 years old who survive to hospital discharge following ECMO support and are randomized to an indication-based RBC transfusion protocol will have better outcomes of neurodevelopment, functional status, and health-related quality of life measured at 12 months post-randomization compared with those managed with a center-specific threshold-based RBC transfusion strategy.\n"
     ]
    }
   ],
   "source": [
    "print(response)"
   ]
  },
  {
   "cell_type": "code",
   "execution_count": null,
   "metadata": {},
   "outputs": [],
   "source": []
  }
 ],
 "metadata": {
  "kernelspec": {
   "display_name": ".venv",
   "language": "python",
   "name": "python3"
  },
  "language_info": {
   "codemirror_mode": {
    "name": "ipython",
    "version": 3
   },
   "file_extension": ".py",
   "mimetype": "text/x-python",
   "name": "python",
   "nbconvert_exporter": "python",
   "pygments_lexer": "ipython3",
   "version": "3.13.0"
  }
 },
 "nbformat": 4,
 "nbformat_minor": 2
}
