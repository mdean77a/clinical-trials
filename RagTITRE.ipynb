{
 "cells": [
  {
   "cell_type": "code",
   "execution_count": null,
   "id": "4ab18acf-f968-4038-a147-bf2d92818cde",
   "metadata": {
    "collapsed": true,
    "jupyter": {
     "outputs_hidden": true
    }
   },
   "outputs": [],
   "source": [
    "# !pip install langchain\n",
    "# !pip install pypdf\n",
    "# !pip install yt_dlp\n",
    "# !pip install pydub\n",
    "# !pip install chromadb\n",
    "# !pip install langchain_openai\n",
    "# !pip install sentence_transformers"
   ]
  },
  {
   "cell_type": "code",
   "execution_count": 1,
   "id": "ba9ba329-c6a2-4498-b152-feff85980cf9",
   "metadata": {},
   "outputs": [],
   "source": [
    "import os\n",
    "\n",
    "import shutil"
   ]
  },
  {
   "cell_type": "code",
   "execution_count": 2,
   "id": "3417d409-10b3-4cf9-97fa-d6cef237d584",
   "metadata": {},
   "outputs": [],
   "source": [
    "# Load dependencies\n",
    "from langchain_community.document_loaders import PyPDFLoader\n",
    "from langchain.text_splitter import RecursiveCharacterTextSplitter\n",
    "from langchain_community.embeddings import HuggingFaceBgeEmbeddings\n",
    "from langchain_community.vectorstores import Chroma\n",
    "from langchain_community.llms import HuggingFacePipeline, HuggingFaceHub\n",
    "from transformers import AutoTokenizer, pipeline, logging\n",
    "from openai import OpenAI\n",
    "from langchain.chains import RetrievalQA, RetrievalQAWithSourcesChain\n",
    "from langchain.retrievers.self_query.base import SelfQueryRetriever"
   ]
  },
  {
   "cell_type": "code",
   "execution_count": 3,
   "id": "a8c0ab43-e47e-4d9a-87af-ec23f5d8d2e5",
   "metadata": {},
   "outputs": [
    {
     "name": "stdout",
     "output_type": "stream",
     "text": [
      "156\n"
     ]
    }
   ],
   "source": [
    "# Load the protocol and cut it up into chunks\n",
    "loader = PyPDFLoader(\"TITRE-protocol.pdf\")\n",
    "pages = loader.load()\n",
    "text_splitter = RecursiveCharacterTextSplitter(chunk_size=1000, chunk_overlap=50)\n",
    "splits = text_splitter.split_documents(pages)\n",
    "print(len(splits))"
   ]
  },
  {
   "cell_type": "code",
   "execution_count": 4,
   "id": "8624d1ba-3762-4c5a-81af-f51efc021bc0",
   "metadata": {},
   "outputs": [
    {
     "name": "stderr",
     "output_type": "stream",
     "text": [
      "/var/folders/zx/1kbq8dj123q1cq4b0tqqc64r0000gn/T/ipykernel_76043/2807345012.py:4: LangChainDeprecationWarning: The class `HuggingFaceBgeEmbeddings` was deprecated in LangChain 0.2.2 and will be removed in 1.0. An updated version of the class exists in the :class:`~langchain-huggingface package and should be used instead. To use it run `pip install -U :class:`~langchain-huggingface` and import as `from :class:`~langchain_huggingface import HuggingFaceEmbeddings``.\n",
      "  embedding_function = HuggingFaceBgeEmbeddings(model_name=model_name,\n"
     ]
    }
   ],
   "source": [
    "# Embed the chunks and store in Chromadb\n",
    "model_name = \"BAAI/bge-base-en\"\n",
    "encode_kwargs = {'normalize_embeddings': True}\n",
    "embedding_function = HuggingFaceBgeEmbeddings(model_name=model_name,\n",
    "                                              encode_kwargs=encode_kwargs)\n",
    "persist_directory = 'docs/chroma/'\n",
    "# if os.path.exists(\"docs/chroma/\") and os.path.isdir(persist_directory):\n",
    "#     shutil.rmtree(\"docs/\")\n",
    "#     print(f\"The directory {persist_directory} has been deleted.\")\n",
    "# else:\n",
    "#     print(f\"The directory {persist_directory} did not exist.\")\n",
    "# persist_directory = 'docs/chroma/'\n",
    "vectordb = Chroma.from_documents(documents=splits,\n",
    "                                 embedding=embedding_function,\n",
    "                                 persist_directory=persist_directory)\n"
   ]
  },
  {
   "cell_type": "code",
   "execution_count": 25,
   "id": "84b2f3cb-dd1a-4d9d-9219-fb134a42e4cf",
   "metadata": {},
   "outputs": [],
   "source": [
    "# Set up my local LLM, which is running on the M3 laptop.\n",
    "llm = OpenAI(base_url=\"http://192.168.1.157:1234/v1/\", api_key=\"not-needed\")\n",
    "# llm = OpenAI(base_url=\"http://192.168.1.157:11434\", api_key=\"not-needed\")"
   ]
  },
  {
   "cell_type": "code",
   "execution_count": 13,
   "id": "cca5d0ef-ae3b-487a-9d16-15086a519263",
   "metadata": {},
   "outputs": [],
   "source": [
    "def getRagData(query:str, k=5):\n",
    "    rag_return = vectordb.similarity_search(query, k=k)\n",
    "    prompt = \"\"\n",
    "    for r in rag_return:\n",
    "        prompt = prompt + r.page_content\n",
    "    prompt = query + \"\\n\" + prompt\n",
    "    return prompt"
   ]
  },
  {
   "cell_type": "code",
   "execution_count": 22,
   "id": "1731836c-b696-4abb-bc09-0a7782250671",
   "metadata": {},
   "outputs": [],
   "source": [
    "def askQuestion(query: str, k=5):\n",
    "    prompt = getRagData(query,k)\n",
    "    completion = llm.chat.completions.create(\n",
    "        model=\"local-model\", # this field is currently unused\n",
    "        messages=[  \n",
    "            {\"role\": \"system\", \"content\": \"You are an expert helpful assistant.\"},   \n",
    "            {\"role\": \"user\", \"content\": prompt}\n",
    "        ], \n",
    "        temperature=0.01\n",
    "    )\n",
    "    print(completion.choices[0].message.content)"
   ]
  },
  {
   "cell_type": "code",
   "execution_count": 32,
   "id": "582cf53e",
   "metadata": {},
   "outputs": [],
   "source": [
    "import requests\n",
    "import json\n",
    "\n",
    "def askQuestionOllama(query: str, k=5, model=\"deepseek-r1:8b\"):\n",
    "    prompt = getRagData(query, k)\n",
    "    \n",
    "    # Ollama API endpoint\n",
    "    url = \"http://192.168.1.157:11434/api/generate\"\n",
    "    \n",
    "    # Prepare the payload according to Ollama API\n",
    "    payload = {\n",
    "        \"model\": model,\n",
    "        \"prompt\": prompt,\n",
    "        \"system\": \"You are an expert helpful assistant.\",\n",
    "        \"stream\": False,\n",
    "        \"temperature\": 0.01\n",
    "    }\n",
    "    \n",
    "    headers = {\"Content-Type\": \"application/json\"}\n",
    "    \n",
    "    try:\n",
    "        response = requests.post(url, headers=headers, data=json.dumps(payload))\n",
    "        response.raise_for_status()\n",
    "        \n",
    "        result = response.json()\n",
    "        \n",
    "        # Ollama returns the response in the \"response\" field\n",
    "        if \"response\" in result:\n",
    "            print(result[\"response\"])\n",
    "            return result[\"response\"]\n",
    "        else:\n",
    "            print(f\"Unexpected response structure: {result}\")\n",
    "            return None\n",
    "    except Exception as e:\n",
    "        print(f\"Error during Ollama API call: {e}\")\n",
    "        import traceback\n",
    "        traceback.print_exc()\n",
    "        return None"
   ]
  },
  {
   "cell_type": "code",
   "execution_count": 9,
   "id": "0392b57a",
   "metadata": {},
   "outputs": [],
   "source": [
    "def askQuestion(query: str, k=5):\n",
    "    prompt = getRagData(query, k)\n",
    "    try:\n",
    "        completion = llm.chat.completions.create(\n",
    "            model=\"meta-llama-3.1-8b-instruct\",\n",
    "            messages=[\n",
    "                {\"role\": \"system\", \"content\": \"You are an expert helpful assistant.\"},\n",
    "                {\"role\": \"user\", \"content\": prompt}\n",
    "            ],\n",
    "            temperature=0.01\n",
    "        )\n",
    "        print(completion.choices[0].message.content)\n",
    "    except Exception as e:\n",
    "        print(f\"Error during API call: {e}\")"
   ]
  },
  {
   "cell_type": "code",
   "execution_count": 28,
   "id": "c366058e-b0e3-436d-9011-7f76b6da73bd",
   "metadata": {},
   "outputs": [
    {
     "name": "stdout",
     "output_type": "stream",
     "text": [
      "The inclusion and exclusion criteria of the study are as follows:\n",
      "\n",
      "**Inclusion Criteria (all must be met):**\n",
      "\n",
      "1. Age < 6 years at ECMO cannulation\n",
      "2. Veno-arterial (VA) mode of ECMO\n",
      "3. First ECMO run during the index hospitalization\n",
      "\n",
      "**Exclusion Criteria (any single criterion met at time of screening excludes the patient):**\n",
      "\n",
      "1. Gestationally-corrected age < 37 weeks\n",
      "2. Veno-venous (VV) mode of ECMO\n",
      "3. Patients initially started on VV-ECMO and then transitioned to VA ECMO\n",
      "4. ECMO used for procedural support (ECMO deployed and decannulated in procedural area with no ICU ECMO care) or ECMO duration expected to be < 24 hours\n",
      "5. Limitation of care in-place or being discussed\n",
      "6. Congenital bleeding disorders\n",
      "7. Hemoglobinopathies\n",
      "8. Primary Residence outside the country of enrollment\n",
      "9. Concurrent participation in a separate interventional trial that has the potential to impact neurodevelopmental status of the patient\n",
      "\n",
      "These criteria are used to select participants for the study, which aims to compare the effectiveness of standard threshold-based management with an indication-based RBC transfusion protocol during ECMO.\n"
     ]
    }
   ],
   "source": [
    "askQuestion(\"Describe the inclusion and exclusion criteria of the study.\",15)"
   ]
  },
  {
   "cell_type": "code",
   "execution_count": 20,
   "id": "f869e194-ca5a-4a01-9532-e6aaabea9995",
   "metadata": {},
   "outputs": [
    {
     "name": "stdout",
     "output_type": "stream",
     "text": [
      "**Clinical Site Activation Checklist**\n",
      "\n",
      "**Pre-Activation (Before Site Visit)**\n",
      "\n",
      "1. **Review Study Protocol**: Ensure understanding of the study protocol, including inclusion and exclusion criteria, study procedures, and informed consent process.\n",
      "2. **Verify IRB/REB Approval**: Confirm that the study protocol and any amendments have been approved by a properly constituted independent IRB or REB.\n",
      "3. **Obtain Site-Specific Information**: Gather information about the site, including the number of patients, available resources, and any site-specific procedures.\n",
      "4. **Review Regulatory Documentation**: Ensure that all necessary regulatory documents, such as informed consent forms and trial eligibility forms, are complete and accurate.\n",
      "5. **Coordinate with DCC PI and/or Trial Co-Chair**: Schedule a site visit with the DCC PI and/or trial co-chair to discuss site-specific details and ensure a smooth activation process.\n",
      "\n",
      "**Site Visit and Activation**\n",
      "\n",
      "1. **Meet with Local Study Team**: Meet with the local study team, including the research coordinator and site PI, to discuss site-specific details and ensure understanding of the study protocol.\n",
      "2. **Review Screening and Informed Consent Process**: Review the screening and informed consent process, including the timing and procedures for obtaining informed consent.\n",
      "3. **Verify Inclusion and Exclusion Criteria**: Ensure that the site understands and can apply the inclusion and exclusion criteria correctly.\n",
      "4. **Discuss Data Management and Audit Procedures**: Discuss data management and audit procedures, including the process for conducting data audits and implementing corrective action plans (CAPs) as needed.\n",
      "5. **Review Corrective Action Plan (CAP)**: Review the CAP with the site team to ensure that they understand the process for identifying and addressing performance issues.\n",
      "\n",
      "**Post-Activation**\n",
      "\n",
      "1. **Verify Site-Specific Procedures**: Ensure that the site has implemented site-specific procedures, such as screening and informed consent processes, correctly.\n",
      "2. **Monitor Site Performance**: Monitor site performance, including data quality and compliance with study procedures, to ensure that the site is meeting the study's requirements.\n",
      "3. **Conduct Regular Site Visits**: Conduct regular site visits to ensure that the site is maintaining compliance with study procedures and to address any performance issues that may arise.\n",
      "4. **Review and Update CAP as Needed**: Review and update the CAP as needed to ensure that the site is addressing performance issues effectively.\n",
      "5. **Maintain Communication with Site Team**: Maintain open communication with the site team to ensure that any issues or concerns are addressed promptly and effectively.\n",
      "\n",
      "**Additional Considerations**\n",
      "\n",
      "1. **Ensure Compliance with Good Clinical Practice (GCP)**: Ensure that the site is complying with GCP guidelines and applicable government regulations.\n",
      "2. **Verify Institutional Research Policies and Procedures**: Verify that the site is complying with institutional research policies and procedures.\n",
      "3. **Maintain Accurate and Complete Records**: Ensure that the site is maintaining accurate and complete records, including informed consent forms and trial eligibility forms.\n",
      "4. **Conduct Regular Data Audits**: Conduct regular data audits to ensure that the site is maintaining data quality and compliance with study procedures.\n",
      "5. **Address Any Performance Issues Promptly**: Address any performance issues promptly and effectively to ensure that the site is meeting the study's requirements.\n"
     ]
    }
   ],
   "source": [
    "askQuestion(\"Please write a detailed checklist for starting up and activating a clinical site for the study.\")\n"
   ]
  },
  {
   "cell_type": "code",
   "execution_count": 24,
   "id": "ef98a95e",
   "metadata": {},
   "outputs": [
    {
     "name": "stderr",
     "output_type": "stream",
     "text": [
      "huggingface/tokenizers: The current process just got forked, after parallelism has already been used. Disabling parallelism to avoid deadlocks...\n",
      "To disable this warning, you can either:\n",
      "\t- Avoid using `tokenizers` before the fork if possible\n",
      "\t- Explicitly set the environment variable TOKENIZERS_PARALLELISM=(true | false)\n"
     ]
    },
    {
     "name": "stdout",
     "output_type": "stream",
     "text": [
      "*   Trying 192.168.1.157:11434...\n",
      "* Connected to 192.168.1.157 (192.168.1.157) port 11434\n",
      "> GET / HTTP/1.1\n",
      "> Host: 192.168.1.157:11434\n",
      "> User-Agent: curl/8.7.1\n",
      "> Accept: */*\n",
      "> \n",
      "* Request completely sent off\n",
      "< HTTP/1.1 200 OK\n",
      "< Content-Type: text/plain; charset=utf-8\n",
      "< Date: Mon, 17 Mar 2025 15:25:07 GMT\n",
      "< Content-Length: 17\n",
      "< \n",
      "* Connection #0 to host 192.168.1.157 left intact\n",
      "Ollama is running"
     ]
    }
   ],
   "source": [
    "!curl -v http://192.168.1.157:11434"
   ]
  },
  {
   "cell_type": "code",
   "execution_count": 11,
   "id": "727f800a",
   "metadata": {},
   "outputs": [
    {
     "name": "stdout",
     "output_type": "stream",
     "text": [
      "{'id': 'chatcmpl-qmpncabz5plju7yhf4fjcn', 'object': 'chat.completion', 'created': 1742224676, 'model': 'mlx-community/meta-llama-3.1-8b-instruct', 'choices': [{'index': 0, 'logprobs': None, 'finish_reason': 'stop', 'message': {'role': 'assistant', 'content': \"I'm just a computer program, so I don't have feelings, but I'm functioning properly and ready to help you with any questions or tasks you may have. How can I assist you today?\"}}], 'usage': {'prompt_tokens': 47, 'completion_tokens': 88, 'total_tokens': 88}, 'stats': {}, 'system_fingerprint': 'mlx-community/meta-llama-3.1-8b-instruct'}\n"
     ]
    }
   ],
   "source": [
    "import requests\n",
    "import json\n",
    "\n",
    "url = \"http://192.168.1.157:1234/v1/chat/completions\"\n",
    "payload = {\n",
    "    \"model\": \"meta-llama-3.1-8b-instruct\",\n",
    "    \"messages\": [\n",
    "        {\"role\": \"system\", \"content\": \"You are a helpful assistant.\"},\n",
    "        {\"role\": \"user\", \"content\": \"Hello, how are you?\"}\n",
    "    ],\n",
    "    \"temperature\": 0.01\n",
    "}\n",
    "headers = {\"Content-Type\": \"application/json\"}\n",
    "\n",
    "try:\n",
    "    response = requests.post(url, headers=headers, data=json.dumps(payload), timeout=5)\n",
    "    response.raise_for_status()\n",
    "    print(response.json())\n",
    "except requests.exceptions.RequestException as e:\n",
    "    print(f\"Error: {e}\")"
   ]
  },
  {
   "cell_type": "code",
   "execution_count": 34,
   "id": "dd802b90-d621-4338-8be8-bae52463f908",
   "metadata": {},
   "outputs": [
    {
     "name": "stdout",
     "output_type": "stream",
     "text": [
      "<think>\n",
      "Okay, so I need to help the user write a descriptive summary of their study. They provided a chunk of text that seems repetitive and includes some specific details about informed consent and secondary analyses. Hmm, maybe they included too much information by accident?\n",
      "\n",
      "Alright, first, I should break down what they're asking for. They want a background, significance, and reasons for the study. So I need to figure out what the study is about. The text mentions IRB/REB approval, informed consent forms, and modifications for local regulations. It also talks about PedsQL and secondary analyses like regression modeling and genetic findings.\n",
      "\n",
      "Wait, the content they provided seems to be part of a protocol or ethics application, not the actual study summary. They might have pasted that by mistake. So my task is to create a concise summary based on what's provided. Let me parse through it again.\n",
      "\n",
      "They mention participants needing an informed consent form, which is approved by IRB/REB and modified for local use. The consent must be obtained before any procedures. Also, there are secondary analyses focusing on neurodevelopmental outcomes using PedsQL, predictive models to find risk factors, incorporating genetics, and statistical learning with external datasets.\n",
      "\n",
      "So the study's main focus seems to be evaluating a treatment strategy in a clinical trial, possibly in pediatric populations, looking at both primary outcomes like treatment effectiveness and secondary outcomes like genetic predictors and QOL. The background could involve issues in current treatments, leading to this study as a comparative effectiveness analysis.\n",
      "\n",
      "Significance would likely highlight the importance of understanding treatment outcomes in children with certain conditions, using standardized tools, and integrating genetic factors for personalized medicine. The reasons include ensuring ethical conduct with proper consent, addressing local regulatory needs, and advancing knowledge through comprehensive data analyses.\n",
      "\n",
      "I think I should structure it into sections: Background, Significance, Reasons, then a brief overview. Make sure each part is clear and concise without too much jargon.\n",
      "</think>\n",
      "\n",
      "**Descriptive Summary of the Study**\n",
      "\n",
      "**Background:**  \n",
      "The study focuses on evaluating a treatment strategy in a clinical trial, particularly among pediatric participants. The primary objective is to assess the effectiveness of a specific intervention compared to another approach, using standardized tools like the PedsQL (Pediatric Quality of Life) questionnaire to measure outcomes. Additionally, the research incorporates genetic findings from ancillary studies to explore potential predictors and improve understanding of treatment responses.\n",
      "\n",
      "**Significance:**  \n",
      "The study holds significance due to its potential to enhance therapeutic interventions for pediatric populations, particularly in conditions where standardized tools are lacking. By analyzing neurodevelopmental and health-related quality of life outcomes, the research contributes to a deeper understanding of treatment effectiveness and identifies subgroups at risk or resilient to specific treatments. Incorporating genetic data allows for personalized medicine approaches, offering insights into potential biomarkers that could guide treatment decisions.\n",
      "\n",
      "**Reasons for Conducting the Study:**  \n",
      "The study is conducted to ensure ethical conduct in clinical research by obtaining informed consent from participants or their legal representatives. It also addresses local regulatory requirements by modifying consent forms accordingly. Furthermore, it aims to advance knowledge through comprehensive data analyses, including predictive models and statistical learning techniques, using both primary and secondary outcomes to enhance understanding of treatment efficacy and underlying risk factors.\n",
      "\n",
      "**Overview:**  \n",
      "The study combines comparative effectiveness analysis with secondary outcomes to provide a holistic view of treatment impacts, leveraging both clinical and genetic data for nuanced insights.\n"
     ]
    },
    {
     "data": {
      "text/plain": [
       "\"<think>\\nOkay, so I need to help the user write a descriptive summary of their study. They provided a chunk of text that seems repetitive and includes some specific details about informed consent and secondary analyses. Hmm, maybe they included too much information by accident?\\n\\nAlright, first, I should break down what they're asking for. They want a background, significance, and reasons for the study. So I need to figure out what the study is about. The text mentions IRB/REB approval, informed consent forms, and modifications for local regulations. It also talks about PedsQL and secondary analyses like regression modeling and genetic findings.\\n\\nWait, the content they provided seems to be part of a protocol or ethics application, not the actual study summary. They might have pasted that by mistake. So my task is to create a concise summary based on what's provided. Let me parse through it again.\\n\\nThey mention participants needing an informed consent form, which is approved by IRB/REB and modified for local use. The consent must be obtained before any procedures. Also, there are secondary analyses focusing on neurodevelopmental outcomes using PedsQL, predictive models to find risk factors, incorporating genetics, and statistical learning with external datasets.\\n\\nSo the study's main focus seems to be evaluating a treatment strategy in a clinical trial, possibly in pediatric populations, looking at both primary outcomes like treatment effectiveness and secondary outcomes like genetic predictors and QOL. The background could involve issues in current treatments, leading to this study as a comparative effectiveness analysis.\\n\\nSignificance would likely highlight the importance of understanding treatment outcomes in children with certain conditions, using standardized tools, and integrating genetic factors for personalized medicine. The reasons include ensuring ethical conduct with proper consent, addressing local regulatory needs, and advancing knowledge through comprehensive data analyses.\\n\\nI think I should structure it into sections: Background, Significance, Reasons, then a brief overview. Make sure each part is clear and concise without too much jargon.\\n</think>\\n\\n**Descriptive Summary of the Study**\\n\\n**Background:**  \\nThe study focuses on evaluating a treatment strategy in a clinical trial, particularly among pediatric participants. The primary objective is to assess the effectiveness of a specific intervention compared to another approach, using standardized tools like the PedsQL (Pediatric Quality of Life) questionnaire to measure outcomes. Additionally, the research incorporates genetic findings from ancillary studies to explore potential predictors and improve understanding of treatment responses.\\n\\n**Significance:**  \\nThe study holds significance due to its potential to enhance therapeutic interventions for pediatric populations, particularly in conditions where standardized tools are lacking. By analyzing neurodevelopmental and health-related quality of life outcomes, the research contributes to a deeper understanding of treatment effectiveness and identifies subgroups at risk or resilient to specific treatments. Incorporating genetic data allows for personalized medicine approaches, offering insights into potential biomarkers that could guide treatment decisions.\\n\\n**Reasons for Conducting the Study:**  \\nThe study is conducted to ensure ethical conduct in clinical research by obtaining informed consent from participants or their legal representatives. It also addresses local regulatory requirements by modifying consent forms accordingly. Furthermore, it aims to advance knowledge through comprehensive data analyses, including predictive models and statistical learning techniques, using both primary and secondary outcomes to enhance understanding of treatment efficacy and underlying risk factors.\\n\\n**Overview:**  \\nThe study combines comparative effectiveness analysis with secondary outcomes to provide a holistic view of treatment impacts, leveraging both clinical and genetic data for nuanced insights.\""
      ]
     },
     "execution_count": 34,
     "metadata": {},
     "output_type": "execute_result"
    }
   ],
   "source": [
    "askQuestionOllama(\"Please write a descriptive summary of the study, including the background, significance, and reasons for doing the study.\")"
   ]
  },
  {
   "cell_type": "code",
   "execution_count": null,
   "id": "9a1957f2",
   "metadata": {},
   "outputs": [],
   "source": [
    "from openai import OpenAI\n",
    "import logging\n",
    "\n",
    "# Enable debugging\n",
    "logging.basicConfig(level=logging.DEBUG)\n",
    "\n",
    "# Initialize the OpenAI client\n",
    "llm = OpenAI(base_url=\"http://192.168.1.157:1234/v1\", api_key=\"not-needed\")\n",
    "\n",
    "def getRagData(query: str, k=5):\n",
    "    rag_return = vectordb.similarity_search(query, k=k)  # Assuming vectordb is defined\n",
    "    prompt = \"\"\n",
    "    for r in rag_return:\n",
    "        prompt += r.page_content\n",
    "    prompt = query + \"\\n\" + prompt\n",
    "    return prompt\n",
    "\n",
    "def askQuestion(query: str, k=5):\n",
    "    prompt = getRagData(query, k)\n",
    "    try:\n",
    "        completion = llm.chat.completions.create(\n",
    "            model=\"meta-llama-3.1-8b-instruct\",\n",
    "            messages=[\n",
    "                {\"role\": \"system\", \"content\": \"You are an expert helpful assistant.\"},\n",
    "                {\"role\": \"user\", \"content\": prompt}\n",
    "            ],\n",
    "            temperature=0.01\n",
    "        )\n",
    "        print(completion.choices[0].message.content)\n",
    "    except Exception as e:\n",
    "        print(f\"Error during API call: {e}\")\n",
    "\n",
    "# Run the function\n",
    "askQuestion(\"Describe the inclusion and exclusion criteria of the study.\", 15)"
   ]
  },
  {
   "cell_type": "code",
   "execution_count": null,
   "id": "ef56d453-5f57-4f76-9126-41e2ca62a6e5",
   "metadata": {},
   "outputs": [],
   "source": [
    "askQuestion(\"What are the primary and secondary endpoints of the study. What are the main hypotheses?\")\n"
   ]
  },
  {
   "cell_type": "code",
   "execution_count": null,
   "id": "5df0732f-e176-4960-b8fd-44137ef32186",
   "metadata": {},
   "outputs": [],
   "source": [
    "askQuestion(\"What are the risks and benefits of participating in the study?\")\n"
   ]
  },
  {
   "cell_type": "code",
   "execution_count": null,
   "id": "76bc5e5c-a5e5-442a-8947-e8f6c599025a",
   "metadata": {},
   "outputs": [],
   "source": [
    "askQuestion(\"What are the potential adverse events and how are these defined? \")\n"
   ]
  },
  {
   "cell_type": "code",
   "execution_count": 39,
   "id": "e04a29f2-43f0-4fc1-a190-568032ab0ea8",
   "metadata": {},
   "outputs": [
    {
     "name": "stdout",
     "output_type": "stream",
     "text": [
      "<think>\n",
      "Okay, so I need to figure out what the user is asking for based on the query they provided. The initial part of their message seems repetitive and includes mentions of study visits, specifically Visits 6 and 7 at 6 and 9 months post-randomization. They also mention using PCPC, POPC scales, and FSS scores during these visits, either in-person or via medical records if data collection isn't feasible.\n",
      "\n",
      "Then, the user pasted a section about participant selection and withdrawal, listing inclusion and exclusion criteria, recruitment methods, and reasons for early withdrawal. It's clear that this is part of a study protocol, possibly in clinical research.\n",
      "\n",
      "The user ended their query with \"Please list all the visits in the study.\" Given the initial repetition, I think they might have made a mistake or were testing something. But focusing on their main request: listing all visits.\n",
      "\n",
      "Looking at the text, there are mentions of Visit 6 and Visit 7. However, the text is repetitive, so it's possible that these are the only two visits mentioned beyond the initial ones, but perhaps others exist elsewhere in the document not shown here.\n",
      "\n",
      "I should compile a list based on what's provided. So, I'll note Visit 1 (baseline), Visit 6 at 6 months, and Visit 7 at 9 months. Each visit includes specific tools like PCPC, POPC, FSS either via scripted forms or medical records if necessary.\n",
      "\n",
      "I need to make sure the list is clear and each visit's details are concise. Also, since Visits 6 and 7 have similar information, I should avoid repetition beyond listing them as separate entities with their timings.\n",
      "</think>\n",
      "\n",
      "### List of Study Visits:\n",
      "\n",
      "1. **Visit 1: Baseline (Timing: Pre-randomization)**  \n",
      "   - No specific tools or scales mentioned in the provided text.\n",
      "\n",
      "2. **Visit 6: 6 Month Post-Randomization Follow-Up (Timing: 6 ± 1 month)**  \n",
      "   - Tools/Scales/Assessments:  \n",
      "     - PCPC scale (Patient-Centered Care)  \n",
      "     - POPC scale (Positive and Organized Care)  \n",
      "     - FSS score (Functional Status Score)  \n",
      "\n",
      "3. **Visit 7: 9 Month Post-Randomization Follow-Up (Timing: 9 ± 1 month)**  \n",
      "   - Tools/Scales/Assessments:  \n",
      "     - PCPC scale (Patient-Centered Care)  \n",
      "     - POPC scale (Positive and Organized Care)  \n",
      "     - FSS score (Functional Status Score)  \n",
      "\n",
      "---\n",
      "\n",
      "### Key Notes:\n",
      "- If data collection via a scripted form is not feasible (e.g., due to family unreachability), data will be obtained from medical records.\n",
      "- Visits are conducted using a virtual communication platform unless the participant is still hospitalized, in which case they may be completed in person.\n"
     ]
    },
    {
     "data": {
      "text/plain": [
       "'<think>\\nOkay, so I need to figure out what the user is asking for based on the query they provided. The initial part of their message seems repetitive and includes mentions of study visits, specifically Visits 6 and 7 at 6 and 9 months post-randomization. They also mention using PCPC, POPC scales, and FSS scores during these visits, either in-person or via medical records if data collection isn\\'t feasible.\\n\\nThen, the user pasted a section about participant selection and withdrawal, listing inclusion and exclusion criteria, recruitment methods, and reasons for early withdrawal. It\\'s clear that this is part of a study protocol, possibly in clinical research.\\n\\nThe user ended their query with \"Please list all the visits in the study.\" Given the initial repetition, I think they might have made a mistake or were testing something. But focusing on their main request: listing all visits.\\n\\nLooking at the text, there are mentions of Visit 6 and Visit 7. However, the text is repetitive, so it\\'s possible that these are the only two visits mentioned beyond the initial ones, but perhaps others exist elsewhere in the document not shown here.\\n\\nI should compile a list based on what\\'s provided. So, I\\'ll note Visit 1 (baseline), Visit 6 at 6 months, and Visit 7 at 9 months. Each visit includes specific tools like PCPC, POPC, FSS either via scripted forms or medical records if necessary.\\n\\nI need to make sure the list is clear and each visit\\'s details are concise. Also, since Visits 6 and 7 have similar information, I should avoid repetition beyond listing them as separate entities with their timings.\\n</think>\\n\\n### List of Study Visits:\\n\\n1. **Visit 1: Baseline (Timing: Pre-randomization)**  \\n   - No specific tools or scales mentioned in the provided text.\\n\\n2. **Visit 6: 6 Month Post-Randomization Follow-Up (Timing: 6 ± 1 month)**  \\n   - Tools/Scales/Assessments:  \\n     - PCPC scale (Patient-Centered Care)  \\n     - POPC scale (Positive and Organized Care)  \\n     - FSS score (Functional Status Score)  \\n\\n3. **Visit 7: 9 Month Post-Randomization Follow-Up (Timing: 9 ± 1 month)**  \\n   - Tools/Scales/Assessments:  \\n     - PCPC scale (Patient-Centered Care)  \\n     - POPC scale (Positive and Organized Care)  \\n     - FSS score (Functional Status Score)  \\n\\n---\\n\\n### Key Notes:\\n- If data collection via a scripted form is not feasible (e.g., due to family unreachability), data will be obtained from medical records.\\n- Visits are conducted using a virtual communication platform unless the participant is still hospitalized, in which case they may be completed in person.'"
      ]
     },
     "execution_count": 39,
     "metadata": {},
     "output_type": "execute_result"
    }
   ],
   "source": [
    "askQuestionOllama(\"List all the visits in the study\")"
   ]
  },
  {
   "cell_type": "code",
   "execution_count": 38,
   "id": "17f867bc-13dd-4636-bbf5-7437d0858899",
   "metadata": {},
   "outputs": [
    {
     "name": "stdout",
     "output_type": "stream",
     "text": [
      "Based on the provided information, there are two visits mentioned:\n",
      "\n",
      "1. Visit 6: 6 month post-randomization follow-up (Timing 6 ± 1 month)\n",
      "2. Visit 7: 9 month post-randomization follow-up (Timing 9 ± 1 month)\n",
      "\n",
      "Both visits will include the collection of data via a scripted form or in-person, depending on the situation, and will include the following:\n",
      "\n",
      "- PCPC (Pain Catastrophizing Scale) and POPC (Pain Outcome Profile) scales\n",
      "- FSS (Fear-Avoidance Beliefs Questionnaire) scores\n",
      "\n",
      "If it's not feasible to collect these data via the scripted form, the information will be obtained from medical records.\n"
     ]
    }
   ],
   "source": [
    "askQuestion(\"List all the visits in the study\")"
   ]
  },
  {
   "cell_type": "code",
   "execution_count": null,
   "id": "0e5a9079",
   "metadata": {},
   "outputs": [],
   "source": []
  }
 ],
 "metadata": {
  "kernelspec": {
   "display_name": "Python 3",
   "language": "python",
   "name": "python3"
  },
  "language_info": {
   "codemirror_mode": {
    "name": "ipython",
    "version": 3
   },
   "file_extension": ".py",
   "mimetype": "text/x-python",
   "name": "python",
   "nbconvert_exporter": "python",
   "pygments_lexer": "ipython3",
   "version": "3.12.3"
  }
 },
 "nbformat": 4,
 "nbformat_minor": 5
}
