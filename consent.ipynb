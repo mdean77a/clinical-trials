{
 "cells": [
  {
   "cell_type": "markdown",
   "metadata": {},
   "source": [
    "## Consent Document Development Notebook\n",
    "\n",
    "This will outline the process for developing the consent document, including using different models, modes of embedding, chunking strategies, etc.  Generally for experimentation.\n",
    "\n",
    "## Formatting code\n",
    "\n",
    "The next cell is a function that will wrap the output of the code cells in a way that makes it easier to read.  It is a workaround for the fact that Jupyter notebooks in Cursor do not wrap the same way that they do in Colab.\n"
   ]
  },
  {
   "cell_type": "code",
   "execution_count": 1,
   "metadata": {},
   "outputs": [
    {
     "data": {
      "text/html": [
       "\n",
       "    <style>\n",
       "    pre {\n",
       "        white-space: pre-wrap;\n",
       "        word-wrap: break-word;\n",
       "        max-width: 100%;\n",
       "        overflow-x: hidden;\n",
       "    }\n",
       "    .output_area {\n",
       "        white-space: pre-wrap;\n",
       "        word-wrap: break-word;\n",
       "        max-width: 100%;\n",
       "        overflow-x: hidden;\n",
       "    }\n",
       "    .output_text {\n",
       "        white-space: pre-wrap;\n",
       "        word-wrap: break-word;\n",
       "    }\n",
       "    div.output {\n",
       "        white-space: pre-wrap;\n",
       "        word-wrap: break-word;\n",
       "        max-width: 100%;\n",
       "    }\n",
       "    span {\n",
       "        white-space: pre-wrap;\n",
       "        word-wrap: break-word;\n",
       "    }\n",
       "    </style>\n",
       "    "
      ],
      "text/plain": [
       "<IPython.core.display.HTML object>"
      ]
     },
     "metadata": {},
     "output_type": "display_data"
    }
   ],
   "source": [
    "from IPython.display import HTML, display\n",
    "def set_output_wrapping():\n",
    "    display(HTML('''\n",
    "    <style>\n",
    "    pre {\n",
    "        white-space: pre-wrap;\n",
    "        word-wrap: break-word;\n",
    "        max-width: 100%;\n",
    "        overflow-x: hidden;\n",
    "    }\n",
    "    .output_area {\n",
    "        white-space: pre-wrap;\n",
    "        word-wrap: break-word;\n",
    "        max-width: 100%;\n",
    "        overflow-x: hidden;\n",
    "    }\n",
    "    .output_text {\n",
    "        white-space: pre-wrap;\n",
    "        word-wrap: break-word;\n",
    "    }\n",
    "    div.output {\n",
    "        white-space: pre-wrap;\n",
    "        word-wrap: break-word;\n",
    "        max-width: 100%;\n",
    "    }\n",
    "    span {\n",
    "        white-space: pre-wrap;\n",
    "        word-wrap: break-word;\n",
    "    }\n",
    "    </style>\n",
    "    '''))\n",
    "set_output_wrapping()   \n"
   ]
  },
  {
   "cell_type": "markdown",
   "metadata": {},
   "source": [
    "## API Key Setup\n",
    "---"
   ]
  },
  {
   "cell_type": "code",
   "execution_count": 2,
   "metadata": {},
   "outputs": [],
   "source": [
    "import getpass\n",
    "import os\n",
    "\n",
    "\n",
    "def set_api_key(key_name: str) -> None:\n",
    "    \"\"\"\n",
    "    Securely set an environment variable if it doesn't already exist.\n",
    "    Prompts the user for input using a password-style hidden input.\n",
    "    \n",
    "    Args:\n",
    "        key_name (str): Name of the environment variable to set (e.g., \"OPENAI_API_KEY\")\n",
    "    \"\"\"\n",
    "    if not os.environ.get(key_name):\n",
    "        os.environ[key_name] = getpass.getpass(f\"{key_name}: \")\n",
    "\n",
    "# Example usage:\n",
    "# set_api_key(\"OPENAI_API_KEY\")\n",
    "# set_api_key(\"ANTHROPIC_API_KEY\")"
   ]
  }
 ],
 "metadata": {
  "kernelspec": {
   "display_name": ".venv",
   "language": "python",
   "name": "python3"
  },
  "language_info": {
   "codemirror_mode": {
    "name": "ipython",
    "version": 3
   },
   "file_extension": ".py",
   "mimetype": "text/x-python",
   "name": "python",
   "nbconvert_exporter": "python",
   "pygments_lexer": "ipython3",
   "version": "3.13.0"
  }
 },
 "nbformat": 4,
 "nbformat_minor": 2
}
